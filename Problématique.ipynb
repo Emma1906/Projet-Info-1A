{
 "cells": [
  {
   "cell_type": "markdown",
   "id": "92b12c22",
   "metadata": {},
   "source": [
    "Comment prédire le podium d'une course de Formule Un ? "
   ]
  },
  {
   "cell_type": "markdown",
   "id": "44c653a9",
   "metadata": {},
   "source": [
    "Librairies : "
   ]
  },
  {
   "cell_type": "code",
   "execution_count": null,
   "id": "090631b9",
   "metadata": {},
   "outputs": [],
   "source": [
    "import pandas as pd\n",
    "import os\n",
    "import csv\n",
    "import matplotlib.pyplot as plt\n"
   ]
  },
  {
   "cell_type": "markdown",
   "id": "66672588",
   "metadata": {},
   "source": [
    "Chargement des données : "
   ]
  },
  {
   "cell_type": "code",
   "execution_count": null,
   "id": "29bacd67",
   "metadata": {},
   "outputs": [
    {
     "name": "stdout",
     "output_type": "stream",
     "text": [
      "drivers\n",
      "Index(['driverId', 'driverRef', 'number', 'code', 'forename', 'surname', 'dob',\n",
      "       'nationality', 'url', 'nom_complet'],\n",
      "      dtype='object')\n",
      "construtors\n",
      "Index(['constructorId', 'constructorRef', 'name', 'nationality', 'url'], dtype='object')\n",
      "races\n",
      "Index(['raceId', 'year', 'round', 'circuitId', 'name', 'date', 'time', 'url',\n",
      "       'fp1_date', 'fp1_time', 'fp2_date', 'fp2_time', 'fp3_date', 'fp3_time',\n",
      "       'quali_date', 'quali_time', 'sprint_date', 'sprint_time'],\n",
      "      dtype='object')\n",
      "results\n",
      "Index(['resultId', 'raceId', 'driverId', 'constructorId', 'number', 'grid',\n",
      "       'position', 'positionText', 'positionOrder', 'points', 'laps', 'time',\n",
      "       'milliseconds', 'fastestLap', 'rank', 'fastestLapTime',\n",
      "       'fastestLapSpeed', 'statusId'],\n",
      "      dtype='object')\n"
     ]
    }
   ],
   "source": [
    "drivers = pd.read_csv(os.path.join(\"donnees_formule_un\", \"drivers.csv\")\\\n",
    "    , on_bad_lines='skip')\n",
    "drivers.columns = drivers.columns.str.strip()\n",
    "drivers[\"forename\"] = drivers[\"forename\"].str.replace('\"', '').str.strip()\n",
    "drivers[\"surname\"] = drivers[\"surname\"].str.replace('\"', '').str.strip()\n",
    "drivers[\"nom_complet\"] = drivers[\"forename\"] + \" \" + drivers[\"surname\"]\n",
    "\n",
    "constructors = pd.read_csv(os.path.join(\"donnees_formule_un\", \"constructors.csv\"))\n",
    "constructors.columns = constructors.columns.str.strip()\n",
    "\n",
    "results = pd.read_csv(os.path.join(\"donnees_formule_un\", \"results.csv\"))\n",
    "results.columns = results.columns.str.strip()\n",
    "\n",
    "races = pd.read_csv(os.path.join(\"donnees_formule_un\", \"races.csv\"))\n",
    "races.columns = races.columns.str.strip()\n",
    "\n",
    "\"\"\"qualifying = pd.read_csv(os.path.join(\"donnees_formule_un\", \"qualifying.csv\"))\n",
    "qualifying.columns = qualifying.columns.str.strip()\"\"\"\n",
    "\n",
    "print(\"drivers\")\n",
    "print(drivers.columns)\n",
    "print(\"construtors\")\n",
    "print(constructors.columns)\n",
    "print(\"races\")\n",
    "print(races.columns)\n",
    "print(\"results\")\n",
    "print(results.columns)\n",
    "\"\"\"print(\"qualifying\")\n",
    "print(qualifying.columns)\"\"\""
   ]
  },
  {
   "cell_type": "markdown",
   "id": "848d983b",
   "metadata": {},
   "source": [
    "Table énorme "
   ]
  },
  {
   "cell_type": "code",
   "execution_count": 17,
   "id": "921f5acc",
   "metadata": {},
   "outputs": [
    {
     "name": "stdout",
     "output_type": "stream",
     "text": [
      "Index(['raceId', 'year', 'round', 'circuitId', 'name_x', 'date', 'time_x',\n",
      "       'url_x', 'fp1_date', 'fp1_time', 'fp2_date', 'fp2_time', 'fp3_date',\n",
      "       'fp3_time', 'quali_date', 'quali_time', 'sprint_date', 'sprint_time',\n",
      "       'resultId', 'driverId', 'constructorId', 'number_x', 'grid', 'position',\n",
      "       'positionText', 'positionOrder', 'points', 'laps', 'time_y',\n",
      "       'milliseconds', 'fastestLap', 'rank', 'fastestLapTime',\n",
      "       'fastestLapSpeed', 'statusId', 'constructorRef', 'name_y',\n",
      "       'nationality_x', 'url_y', 'driverRef', 'number_y', 'code', 'forename',\n",
      "       'surname', 'dob', 'nationality_y', 'url', 'nom_complet'],\n",
      "      dtype='object')\n",
      "       raceId  year                            name_x      nom_complet  \\\n",
      "25810    1098  2023   \"Bahrain Grand Prix\"              Max Verstappen   \n",
      "25811    1098  2023   \"Bahrain Grand Prix\"                Sergio Pérez   \n",
      "25812    1098  2023   \"Bahrain Grand Prix\"             Fernando Alonso   \n",
      "25813    1098  2023   \"Bahrain Grand Prix\"                Carlos Sainz   \n",
      "25814    1098  2023   \"Bahrain Grand Prix\"              Lewis Hamilton   \n",
      "\n",
      "                             name_y  positionOrder  grid  \n",
      "25810   \"Red Bull\"                               1     1  \n",
      "25811   \"Red Bull\"                               2     2  \n",
      "25812   \"Aston Martin\"                           3     5  \n",
      "25813   \"Ferrari\"                                4     4  \n",
      "25814   \"Mercedes\"                               5     7  \n"
     ]
    }
   ],
   "source": [
    "table_1 = pd.merge(races, results, on= \"raceId\")\n",
    "table_2 = pd.merge(table_1, constructors, on = \"constructorId\")\n",
    "table = pd.merge(table_2, drivers, on = \"driverId\")\n",
    "print(table.columns)\n",
    "#sélectionner les variables dans la table\n",
    "table = table[['raceId', 'year', 'name_x', 'nom_complet', 'name_y', 'positionOrder', 'grid']]\n",
    "\n",
    "# table triée sur les années 2023 et 2024 :\n",
    "df = table[(table['year'] == 2023) | (table['year'] == 2024)]\n",
    "df = df.drop_duplicates(subset=['raceId', 'nom_complet']) # éviter les doublons\n",
    "print(df.head())\n"
   ]
  },
  {
   "cell_type": "markdown",
   "id": "23418fa4",
   "metadata": {},
   "source": [
    "Info :\n",
    "name_x = nom du circuit \n",
    "name_y = nom de constructeur "
   ]
  },
  {
   "cell_type": "markdown",
   "id": "a4f6c916",
   "metadata": {},
   "source": [
    "Variables utilisées pour la régression logistique "
   ]
  },
  {
   "cell_type": "code",
   "execution_count": 18,
   "id": "a6135670",
   "metadata": {},
   "outputs": [
    {
     "name": "stdout",
     "output_type": "stream",
     "text": [
      "Index(['raceId', 'year', 'name_x', 'nom_complet', 'name_y', 'positionOrder',\n",
      "       'grid', 'nb_podium_2_ans', 'ecurie', 'ecurie_Alfa Romeo',\n",
      "       'ecurie_AlphaTauri', 'ecurie_Alpine F1 Team', 'ecurie_Aston Martin',\n",
      "       'ecurie_Ferrari', 'ecurie_Haas F1 Team', 'ecurie_McLaren',\n",
      "       'ecurie_Mercedes', 'ecurie_RB F1 Team', 'ecurie_Red Bull',\n",
      "       'ecurie_Sauber', 'ecurie_Williams'],\n",
      "      dtype='object')\n",
      "   raceId  year                            name_x      nom_complet  \\\n",
      "0    1098  2023   \"Bahrain Grand Prix\"              Max Verstappen   \n",
      "1    1098  2023   \"Bahrain Grand Prix\"                Sergio Pérez   \n",
      "2    1098  2023   \"Bahrain Grand Prix\"             Fernando Alonso   \n",
      "3    1098  2023   \"Bahrain Grand Prix\"                Carlos Sainz   \n",
      "4    1098  2023   \"Bahrain Grand Prix\"              Lewis Hamilton   \n",
      "\n",
      "         name_y  positionOrder  grid  nb_podium_2_ans        ecurie  \\\n",
      "0      Red Bull              1     1             30.0      Red Bull   \n",
      "1      Red Bull              2     2             13.0      Red Bull   \n",
      "2  Aston Martin              3     5              8.0  Aston Martin   \n",
      "3       Ferrari              4     4              8.0       Ferrari   \n",
      "4      Mercedes              5     7              8.0      Mercedes   \n",
      "\n",
      "   ecurie_Alfa Romeo  ...  ecurie_Alpine F1 Team  ecurie_Aston Martin  \\\n",
      "0                  0  ...                      0                    0   \n",
      "1                  0  ...                      0                    0   \n",
      "2                  0  ...                      0                    1   \n",
      "3                  0  ...                      0                    0   \n",
      "4                  0  ...                      0                    0   \n",
      "\n",
      "   ecurie_Ferrari  ecurie_Haas F1 Team  ecurie_McLaren  ecurie_Mercedes  \\\n",
      "0               0                    0               0                0   \n",
      "1               0                    0               0                0   \n",
      "2               0                    0               0                0   \n",
      "3               1                    0               0                0   \n",
      "4               0                    0               0                1   \n",
      "\n",
      "   ecurie_RB F1 Team  ecurie_Red Bull  ecurie_Sauber  ecurie_Williams  \n",
      "0                  0                1              0                0  \n",
      "1                  0                1              0                0  \n",
      "2                  0                0              0                0  \n",
      "3                  0                0              0                0  \n",
      "4                  0                0              0                0  \n",
      "\n",
      "[5 rows x 21 columns]\n"
     ]
    }
   ],
   "source": [
    "\n",
    "\"\"\"# Nombre de victoires par pilote\n",
    "nb_victoire_2_ans = df[df[\"positionOrder\"] == 1].groupby(\"nom_complet\").size()\n",
    "# Ajouter un nom à la Série pour pouvoir la fusionner\n",
    "nb_victoire_2_ans.name = 'nb_victoire_2_ans'\n",
    "# Fusionner avec le DataFrame df\n",
    "if 'nb_victoire_2_ans' in df.columns:\n",
    "    df = df.drop(columns=['nb_victoire_2_ans'])\n",
    "\n",
    "df = df.merge(nb_victoire_2_ans, on = \"nom_complet\", how = \"left\")\n",
    "df[\"nb_victoire_2_ans\"] = df[\"nb_victoire_2_ans\"].fillna(0)\"\"\"\n",
    "\n",
    "# Nombre de podium par pilote\n",
    "nb_podium_2_ans = df[(df[\"positionOrder\"] == 1) | (df[\"positionOrder\"] == 2)\\\n",
    "    | (df[\"positionOrder\"] == 3)].groupby(\"nom_complet\").size()\n",
    "# Ajouter un nom à la Série pour pouvoir la fusionner\n",
    "nb_podium_2_ans.name = 'nb_podium_2_ans'\n",
    "if 'nb_podium_2_ans' in df.columns:\n",
    "    df = df.drop(columns=['nb_podium_2_ans'])\n",
    "# Fusionner avec le DataFrame df\n",
    "df = df.merge(nb_podium_2_ans, on = \"nom_complet\", how = \"left\")\n",
    "# Remplir les NaN avec 0\n",
    "df[\"nb_podium_2_ans\"] = df[\"nb_podium_2_ans\"].fillna(0)\n",
    "\n",
    "\n",
    "# Position au départ de la course\n",
    "# correspond à la variable grid de df\n",
    "\n",
    "\n",
    "# Ecurie actuelle du pilote\n",
    "df['name_y'] = df['name_y'].str.strip('\" ') #pour avoir un nom prore\n",
    "# Supprimer les anciennes colonnes d'ecurie si elles existent déjà\n",
    "df = df.loc[:, ~df.columns.str.startswith('ecurie_')]\n",
    "# Ecurie actuelle du pilote\n",
    "df['ecurie'] = df['name_y'].str.strip()    # très important de STRIP ici aussi !!\n",
    "# One-Hot Encoding\n",
    "ecuries_encoded = pd.get_dummies(df['ecurie'], prefix='ecurie')\n",
    "# Ajouter les colonnes au DataFrame\n",
    "df = pd.concat([df, ecuries_encoded], axis=1)\n",
    "\n",
    "\n",
    "# Convertir tout booléen en int (True → 1, False → 0)\n",
    "df = df.astype({col: int for col in df.select_dtypes(include='bool').columns})\n",
    "\n",
    "# Position dans les championnats en 2023 et 2024\n",
    "# correspond à  la variable position de la table driver standings\n",
    "\n",
    "# Afficher les colonnes du DataFrame\n",
    "df.columns = df.columns.str.strip()\n",
    "print(df.columns)\n",
    "print(df.head())\n"
   ]
  },
  {
   "cell_type": "markdown",
   "id": "700545aa",
   "metadata": {},
   "source": [
    "Régression logistique "
   ]
  },
  {
   "cell_type": "code",
   "execution_count": 6,
   "id": "bf84ff44",
   "metadata": {},
   "outputs": [
    {
     "name": "stdout",
     "output_type": "stream",
     "text": [
      "Accuracy du modèle pour la prédiction du podium : 0.88\n"
     ]
    }
   ],
   "source": [
    "from sklearn.linear_model import LogisticRegression\n",
    "from sklearn.model_selection import train_test_split\n",
    "from sklearn.metrics import accuracy_score\n",
    "\n",
    "# 1. Variable cible : sur le podium ou non\n",
    "df[\"sur_podium\"] = df[\"positionOrder\"].isin([1, 2, 3]).astype(int)\n",
    "\n",
    "# 2. Convertir les booléens en 0/1\n",
    "df = df.astype({col: int for col in df.select_dtypes(include='bool').columns})\n",
    "\n",
    "# 3. Définir les features (X) et la cible (y)\n",
    "colonnes_a_exclure = ['raceId', 'year', 'name_x', 'name_y', 'nom_complet', 'ecurie', 'sur_podium', 'positionOrder']\n",
    "X = df.drop(columns=colonnes_a_exclure)\n",
    "y = df['sur_podium']\n",
    "# traiter les valeurs manquantes\n",
    "X = X.fillna(0)\n",
    "\n",
    "\n",
    "# 4. Séparation train/test\n",
    "X_train, X_test, y_train, y_test = train_test_split(X, y, test_size=0.3, random_state=42)\n",
    "\n",
    "# 5. Entraîner le modèle\n",
    "model = LogisticRegression(max_iter=1000)\n",
    "model.fit(X_train, y_train)\n",
    "\n",
    "# 6. Prédictions\n",
    "y_pred = model.predict(X_test)\n",
    "\n",
    "# 7. Évaluation\n",
    "accuracy = accuracy_score(y_test, y_pred)\n",
    "print(f\"Accuracy du modèle pour la prédiction du podium : {accuracy:.2f}\")\n"
   ]
  },
  {
   "cell_type": "markdown",
   "id": "6d872821",
   "metadata": {},
   "source": [
    "Une accuracy de 0.88 signifie que 88% des observations testées ont été bien classées. "
   ]
  },
  {
   "cell_type": "code",
   "execution_count": 7,
   "id": "d22d635d",
   "metadata": {},
   "outputs": [
    {
     "data": {
      "image/png": "[encoded data removed]",
      "text/plain": [
       "<Figure size 640x480 with 2 Axes>"
      ]
     },
     "metadata": {},
     "output_type": "display_data"
    },
    {
     "name": "stdout",
     "output_type": "stream",
     "text": [
      "Rapport de classification :\n",
      "              precision    recall  f1-score   support\n",
      "\n",
      "  Pas podium       0.92      0.93      0.93       172\n",
      "      Podium       0.61      0.59      0.60        32\n",
      "\n",
      "    accuracy                           0.88       204\n",
      "   macro avg       0.77      0.76      0.77       204\n",
      "weighted avg       0.88      0.88      0.88       204\n",
      "\n"
     ]
    }
   ],
   "source": [
    "from sklearn.metrics import confusion_matrix, classification_report, ConfusionMatrixDisplay\n",
    "\n",
    "# 1. Matrice de confusion\n",
    "cm = confusion_matrix(y_test, y_pred)\n",
    "disp = ConfusionMatrixDisplay(confusion_matrix=cm, display_labels=[\"Pas podium\", \"Podium\"])\n",
    "disp.plot(cmap=\"Blues\")\n",
    "plt.title(\"Matrice de confusion\")\n",
    "plt.show()\n",
    "\n",
    "# 2. Rapport de classification\n",
    "print(\"Rapport de classification :\")\n",
    "print(classification_report(y_test, y_pred, target_names=[\"Pas podium\", \"Podium\"]))\n"
   ]
  },
  {
   "cell_type": "markdown",
   "id": "245b1690",
   "metadata": {},
   "source": [
    "Matrice de confusion : 160 vrais négatifs ; 19 vrais positifs ; 13 faux négatifs ; 12 faux positifs \n",
    "\n",
    "Rapport de classification : racall = taux de faux négatifs, le modèle rate des podium ou des non podium, plus il est faible plus le modèle rate ; precision = plus elle est faible plus le modèle prédit à tord ; F1 score = équilibre de ces deux aspects "
   ]
  },
  {
   "cell_type": "markdown",
   "id": "5cf0a42c",
   "metadata": {},
   "source": [
    "Conclusion : pour l'instant le modèle est déséquilibré, il est très bon pour prédire pas podium mais beaucoup moins pour prédire le podium. \n",
    "\n"
   ]
  },
  {
   "cell_type": "markdown",
   "id": "4a6376fc",
   "metadata": {},
   "source": [
    "Pistes d'amélioration : tester la régression logistique avec class_weight=\"balanced\", ce qui compense automatiquement le déséquilibre entre les classes."
   ]
  },
  {
   "cell_type": "code",
   "execution_count": 19,
   "id": "9fba8c07",
   "metadata": {},
   "outputs": [
    {
     "name": "stdout",
     "output_type": "stream",
     "text": [
      "Accuracy du modèle pour la prédiction du podium : 0.85\n"
     ]
    },
    {
     "data": {
      "image/png": "[encoded data removed]",
      "text/plain": [
       "<Figure size 640x480 with 2 Axes>"
      ]
     },
     "metadata": {},
     "output_type": "display_data"
    },
    {
     "name": "stdout",
     "output_type": "stream",
     "text": [
      "Rapport de classification :\n",
      "              precision    recall  f1-score   support\n",
      "\n",
      "  Pas podium       0.97      0.85      0.91       172\n",
      "      Podium       0.52      0.84      0.64        32\n",
      "\n",
      "    accuracy                           0.85       204\n",
      "   macro avg       0.74      0.85      0.78       204\n",
      "weighted avg       0.90      0.85      0.87       204\n",
      "\n",
      "                  feature  coefficient\n",
      "4   ecurie_Alpine F1 Team     1.053309\n",
      "11        ecurie_Red Bull     0.728468\n",
      "9         ecurie_Mercedes     0.452522\n",
      "6          ecurie_Ferrari     0.256397\n",
      "1         nb_podium_2_ans     0.229395\n",
      "8          ecurie_McLaren     0.165333\n",
      "5     ecurie_Aston Martin    -0.025360\n",
      "10      ecurie_RB F1 Team    -0.227448\n",
      "3       ecurie_AlphaTauri    -0.252556\n",
      "0                    grid    -0.306331\n",
      "12          ecurie_Sauber    -0.424999\n",
      "2       ecurie_Alfa Romeo    -0.500568\n",
      "13        ecurie_Williams    -0.537127\n",
      "7     ecurie_Haas F1 Team    -0.749584\n"
     ]
    }
   ],
   "source": [
    "\n",
    "from sklearn.linear_model import LogisticRegression\n",
    "from sklearn.model_selection import train_test_split\n",
    "from sklearn.metrics import accuracy_score\n",
    "\n",
    "# 1. Variable cible : sur le podium ou non\n",
    "df[\"sur_podium\"] = df[\"positionOrder\"].isin([1, 2, 3]).astype(int)\n",
    "\n",
    "# 2. Convertir les booléens en 0/1\n",
    "df = df.astype({col: int for col in df.select_dtypes(include='bool').columns})\n",
    "\n",
    "# 3. Définir les features (X) et la cible (y)\n",
    "colonnes_a_exclure = ['raceId', 'year', 'name_x', 'name_y', 'nom_complet', 'ecurie', 'sur_podium', 'positionOrder']\n",
    "X = df.drop(columns=colonnes_a_exclure)\n",
    "y = df['sur_podium']\n",
    "# traiter les valeurs manquantes\n",
    "X = X.fillna(0)\n",
    "\n",
    "\n",
    "# 4. Séparation train/test\n",
    "X_train, X_test, y_train, y_test = train_test_split(X, y, test_size=0.3, random_state=42)\n",
    "\n",
    "# 5. Entraîner le modèle\n",
    "model = LogisticRegression(max_iter=1000, class_weight=\"balanced\")\n",
    "model.fit(X_train, y_train)\n",
    "\n",
    "# 6. Prédictions\n",
    "y_pred = model.predict(X_test)\n",
    "\n",
    "# 7. Évaluation\n",
    "accuracy = accuracy_score(y_test, y_pred)\n",
    "print(f\"Accuracy du modèle pour la prédiction du podium : {accuracy:.2f}\")\n",
    "\n",
    "from sklearn.metrics import confusion_matrix, classification_report, ConfusionMatrixDisplay\n",
    "\n",
    "# 1. Matrice de confusion\n",
    "cm = confusion_matrix(y_test, y_pred)\n",
    "disp = ConfusionMatrixDisplay(confusion_matrix=cm, display_labels=[\"Pas podium\", \"Podium\"])\n",
    "disp.plot(cmap=\"Blues\")\n",
    "plt.title(\"Matrice de confusion\")\n",
    "plt.show()\n",
    "\n",
    "# 2. Rapport de classification\n",
    "print(\"Rapport de classification :\")\n",
    "print(classification_report(y_test, y_pred, target_names=[\"Pas podium\", \"Podium\"]))\n",
    "\n",
    "# Connaître le poids de chaque variable\n",
    "\n",
    "coef_df = pd.DataFrame({\n",
    "    'feature': X.columns,\n",
    "    'coefficient': model.coef_[0]\n",
    "}).sort_values(by='coefficient', ascending=False)\n",
    "print(coef_df)"
   ]
  },
  {
   "cell_type": "markdown",
   "id": "8dd63436",
   "metadata": {},
   "source": [
    "problème : deux écuries changent de nom entre 2023 et 2024 : soit on les fusionne soit test que sur l'année 2024 et on tente de prédire la dernière course. \n"
   ]
  },
  {
   "cell_type": "markdown",
   "id": "0339e27e",
   "metadata": {},
   "source": [
    " train = année 2023 ; test = année 2024"
   ]
  },
  {
   "cell_type": "code",
   "execution_count": 26,
   "id": "c6b9820e",
   "metadata": {},
   "outputs": [
    {
     "name": "stdout",
     "output_type": "stream",
     "text": [
      "Accuracy du modèle pour la prédiction du podium : 0.82\n"
     ]
    },
    {
     "data": {
      "image/png": "[encoded data removed]",
      "text/plain": [
       "<Figure size 640x480 with 2 Axes>"
      ]
     },
     "metadata": {},
     "output_type": "display_data"
    },
    {
     "name": "stdout",
     "output_type": "stream",
     "text": [
      "Rapport de classification :\n",
      "              precision    recall  f1-score   support\n",
      "\n",
      "  Pas podium       0.96      0.83      0.89       193\n",
      "      Podium       0.44      0.79      0.57        33\n",
      "\n",
      "    accuracy                           0.82       226\n",
      "   macro avg       0.70      0.81      0.73       226\n",
      "weighted avg       0.88      0.82      0.84       226\n",
      "\n",
      "                  feature  coefficient\n",
      "4   ecurie_Alpine F1 Team     0.915305\n",
      "11        ecurie_Red Bull     0.880255\n",
      "5     ecurie_Aston Martin     0.858696\n",
      "9         ecurie_Mercedes     0.833408\n",
      "1         nb_podium_2_ans     0.340982\n",
      "10      ecurie_RB F1 Team     0.000000\n",
      "12          ecurie_Sauber     0.000000\n",
      "13        ecurie_Williams    -0.093927\n",
      "3       ecurie_AlphaTauri    -0.189505\n",
      "2       ecurie_Alfa Romeo    -0.225418\n",
      "0                    grid    -0.288709\n",
      "7     ecurie_Haas F1 Team    -0.363026\n",
      "6          ecurie_Ferrari    -1.191146\n",
      "8          ecurie_McLaren    -1.430276\n",
      "Accuracy du modèle pour la prédiction du podium : 0.87\n"
     ]
    },
    {
     "data": {
      "image/png": "[encoded data removed]",
      "text/plain": [
       "<Figure size 640x480 with 2 Axes>"
      ]
     },
     "metadata": {},
     "output_type": "display_data"
    },
    {
     "name": "stdout",
     "output_type": "stream",
     "text": [
      "Rapport de classification :\n",
      "              precision    recall  f1-score   support\n",
      "\n",
      "  Pas podium       0.98      0.87      0.92       193\n",
      "      Podium       0.54      0.91      0.67        33\n",
      "\n",
      "    accuracy                           0.87       226\n",
      "   macro avg       0.76      0.89      0.80       226\n",
      "weighted avg       0.92      0.87      0.88       226\n",
      "\n",
      "                  feature  coefficient\n",
      "4   ecurie_Alpine F1 Team     1.036019\n",
      "11        ecurie_Red Bull     0.659934\n",
      "9         ecurie_Mercedes     0.590550\n",
      "5     ecurie_Aston Martin     0.536443\n",
      "1         nb_podium_2_ans     0.244014\n",
      "8          ecurie_McLaren     0.099308\n",
      "12          ecurie_Sauber    -0.003409\n",
      "10      ecurie_RB F1 Team    -0.007554\n",
      "0                    grid    -0.264987\n",
      "6          ecurie_Ferrari    -0.405418\n",
      "3       ecurie_AlphaTauri    -0.503128\n",
      "13        ecurie_Williams    -0.550490\n",
      "2       ecurie_Alfa Romeo    -0.586433\n",
      "7     ecurie_Haas F1 Team    -0.970464\n"
     ]
    }
   ],
   "source": [
    "from sklearn.model_selection import TimeSeriesSplit\n",
    "from sklearn.linear_model import LogisticRegression\n",
    "from sklearn.model_selection import train_test_split\n",
    "from sklearn.metrics import accuracy_score\n",
    "\n",
    "# 1. Variable cible : sur le podium ou non\n",
    "df[\"sur_podium\"] = df[\"positionOrder\"].isin([1, 2, 3]).astype(int)\n",
    "\n",
    "# 2. Convertir les booléens en 0/1\n",
    "df = df.astype({col: int for col in df.select_dtypes(include='bool').columns})\n",
    "\n",
    "# 3. Définir les features (X) et la cible (y)\n",
    "colonnes_a_exclure = ['raceId', 'year', 'name_x', 'name_y', 'nom_complet', 'ecurie', 'sur_podium', 'positionOrder']\n",
    "X = df.drop(columns=colonnes_a_exclure)\n",
    "y = df['sur_podium']\n",
    "# traiter les valeurs manquantes\n",
    "X = X.fillna(0)\n",
    "\n",
    "# 4. Séparation train/test avec TimeSeriesSplit\n",
    "tscv = TimeSeriesSplit(n_splits=2)  # Divisez les données en 2 ensembles temporels\n",
    "\n",
    "for train_index, test_index in tscv.split(X):\n",
    "    X_train, X_test = X.iloc[train_index], X.iloc[test_index]\n",
    "    y_train, y_test = y.iloc[train_index], y.iloc[test_index]\n",
    "    # 5. Entraîner le modèle\n",
    "    model = LogisticRegression(max_iter=1000, class_weight=\"balanced\")\n",
    "    model.fit(X_train, y_train)\n",
    "\n",
    "    # 6. Prédictions\n",
    "    y_pred = model.predict(X_test)\n",
    "\n",
    "    # 7. Évaluation\n",
    "    accuracy = accuracy_score(y_test, y_pred)\n",
    "    print(f\"Accuracy du modèle pour la prédiction du podium : {accuracy:.2f}\")\n",
    "\n",
    "    # Matrice de confusion\n",
    "    cm = confusion_matrix(y_test, y_pred)\n",
    "    disp = ConfusionMatrixDisplay(confusion_matrix=cm, display_labels=[\"Pas podium\", \"Podium\"])\n",
    "    disp.plot(cmap=\"Blues\")\n",
    "    plt.title(\"Matrice de confusion\")\n",
    "    plt.show()\n",
    "\n",
    "    # Rapport de classification\n",
    "    print(\"Rapport de classification :\")\n",
    "    print(classification_report(y_test, y_pred, target_names=[\"Pas podium\", \"Podium\"]))\n",
    "\n",
    "    # Poids des variables\n",
    "    coef_df = pd.DataFrame({\n",
    "        'feature': X.columns,\n",
    "        'coefficient': model.coef_[0]\n",
    "    }).sort_values(by='coefficient', ascending=False)\n",
    "    print(coef_df)\n",
    "\n"
   ]
  },
  {
   "cell_type": "markdown",
   "id": "159c8255",
   "metadata": {},
   "source": []
  },
  {
   "cell_type": "code",
   "execution_count": null,
   "id": "517e5552",
   "metadata": {},
   "outputs": [
    {
     "name": "stdout",
     "output_type": "stream",
     "text": [
      "Accuracy du modèle pour la prédiction du podium : 0.85\n"
     ]
    },
    {
     "data": {
      "image/png": "[encoded data removed]",
      "text/plain": [
       "<Figure size 640x480 with 2 Axes>"
      ]
     },
     "metadata": {},
     "output_type": "display_data"
    },
    {
     "name": "stdout",
     "output_type": "stream",
     "text": [
      "Rapport de classification :\n",
      "              precision    recall  f1-score   support\n",
      "\n",
      "  Pas podium       0.98      0.85      0.91       203\n",
      "      Podium       0.51      0.89      0.65        36\n",
      "\n",
      "    accuracy                           0.85       239\n",
      "   macro avg       0.74      0.87      0.78       239\n",
      "weighted avg       0.91      0.85      0.87       239\n",
      "\n",
      "                  feature  coefficient\n",
      "4   ecurie_Alpine F1 Team     1.078936\n",
      "9         ecurie_Mercedes     0.648067\n",
      "5     ecurie_Aston Martin     0.578564\n",
      "11        ecurie_Red Bull     0.547967\n",
      "1         nb_podium_2_ans     0.251785\n",
      "8          ecurie_McLaren     0.143646\n",
      "10      ecurie_RB F1 Team     0.000000\n",
      "12          ecurie_Sauber     0.000000\n",
      "0                    grid    -0.264078\n",
      "3       ecurie_AlphaTauri    -0.493822\n",
      "13        ecurie_Williams    -0.539853\n",
      "6          ecurie_Ferrari    -0.541298\n",
      "2       ecurie_Alfa Romeo    -0.575233\n",
      "7     ecurie_Haas F1 Team    -0.948833\n"
     ]
    }
   ],
   "source": [
    "from sklearn.linear_model import LogisticRegression\n",
    "from sklearn.metrics import accuracy_score, confusion_matrix, classification_report, ConfusionMatrixDisplay\n",
    "import matplotlib.pyplot as plt\n",
    "\n",
    "# 1. Variable cible : sur le podium ou non\n",
    "df[\"sur_podium\"] = df[\"positionOrder\"].isin([1, 2, 3]).astype(int)\n",
    "\n",
    "# 2. Convertir les booléens en 0/1\n",
    "df = df.astype({col: int for col in df.select_dtypes(include='bool').columns})\n",
    "\n",
    "# 3. Définir les features (X) et la cible (y)\n",
    "colonnes_a_exclure = ['raceId', 'year', 'name_x', 'name_y', 'nom_complet', 'ecurie', 'sur_podium', 'positionOrder']\n",
    "X = df.drop(columns=colonnes_a_exclure)\n",
    "y = df['sur_podium']\n",
    "\n",
    "# Traiter les valeurs manquantes\n",
    "X = X.fillna(0)\n",
    "\n",
    "# 4. Séparation train/test sur base de l'année\n",
    "df_2023 = df[df['year'] == 2023]\n",
    "df_2024 = df[df['year'] == 2024]\n",
    "\n",
    "X_train = df_2023.drop(columns=colonnes_a_exclure)\n",
    "y_train = df_2023['sur_podium']\n",
    "X_test = df_2024.drop(columns=colonnes_a_exclure)\n",
    "y_test = df_2024['sur_podium']\n",
    "\n",
    "# 5. Entraîner le modèle\n",
    "model = LogisticRegression(max_iter=1000, class_weight=\"balanced\")\n",
    "model.fit(X_train, y_train)\n",
    "\n",
    "# 6. Prédictions\n",
    "y_pred = model.predict(X_test)\n",
    "\n",
    "# 7. Évaluation\n",
    "accuracy = accuracy_score(y_test, y_pred)\n",
    "print(f\"Accuracy du modèle pour la prédiction du podium : {accuracy:.2f}\")\n",
    "\n",
    "# Matrice de confusion\n",
    "cm = confusion_matrix(y_test, y_pred)\n",
    "disp = ConfusionMatrixDisplay(confusion_matrix=cm, display_labels=[\"Pas podium\", \"Podium\"])\n",
    "disp.plot(cmap=\"Blues\")\n",
    "plt.title(\"Matrice de confusion\")\n",
    "plt.show()\n",
    "\n",
    "# Rapport de classification\n",
    "print(\"Rapport de classification :\")\n",
    "print(classification_report(y_test, y_pred, target_names=[\"Pas podium\", \"Podium\"]))\n",
    "\n",
    "# Connaître le poids de chaque variable\n",
    "coef_df = pd.DataFrame({\n",
    "    'feature': X_train.columns,\n",
    "    'coefficient': model.coef_[0]\n",
    "}).sort_values(by='coefficient', ascending=False)\n",
    "print(coef_df)\n"
   ]
  }
 ],
 "metadata": {
  "kernelspec": {
   "display_name": "Python 3",
   "language": "python",
   "name": "python3"
  },
  "language_info": {
   "codemirror_mode": {
    "name": "ipython",
    "version": 3
   },
   "file_extension": ".py",
   "mimetype": "text/x-python",
   "name": "python",
   "nbconvert_exporter": "python",
   "pygments_lexer": "ipython3",
   "version": "3.11.9"
  }
 },
 "nbformat": 4,
 "nbformat_minor": 5
}
