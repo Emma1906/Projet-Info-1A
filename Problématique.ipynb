{
 "cells": [
  {
   "cell_type": "markdown",
   "id": "92b12c22",
   "metadata": {},
   "source": [
    "Comment prédire le podium d'une course de Formule Un ? "
   ]
  },
  {
   "cell_type": "markdown",
   "id": "44c653a9",
   "metadata": {},
   "source": [
    "Librairies : "
   ]
  },
  {
   "cell_type": "code",
   "execution_count": null,
   "id": "090631b9",
   "metadata": {},
   "outputs": [],
   "source": [
    "import pandas as pd\n",
    "import os\n",
    "import csv\n",
    "import matplotlib.pyplot as plt\n"
   ]
  },
  {
   "cell_type": "markdown",
   "id": "66672588",
   "metadata": {},
   "source": [
    "Chargement des données : "
   ]
  },
  {
   "cell_type": "code",
   "execution_count": 15,
   "id": "29bacd67",
   "metadata": {},
   "outputs": [
    {
     "name": "stdout",
     "output_type": "stream",
     "text": [
      "drivers\n",
      "Index(['driverId', 'driverRef', 'number', 'code', 'forename', 'surname', 'dob',\n",
      "       'nationality', 'url', 'nom_complet'],\n",
      "      dtype='object')\n",
      "construtors\n",
      "Index(['constructorId', 'constructorRef', 'name', 'nationality', 'url'], dtype='object')\n",
      "races\n",
      "Index(['raceId', 'year', 'round', 'circuitId', 'name', 'date', 'time', 'url',\n",
      "       'fp1_date', 'fp1_time', 'fp2_date', 'fp2_time', 'fp3_date', 'fp3_time',\n",
      "       'quali_date', 'quali_time', 'sprint_date', 'sprint_time'],\n",
      "      dtype='object')\n",
      "results\n",
      "Index(['resultId', 'raceId', 'driverId', 'constructorId', 'number', 'grid',\n",
      "       'position', 'positionText', 'positionOrder', 'points', 'laps', 'time',\n",
      "       'milliseconds', 'fastestLap', 'rank', 'fastestLapTime',\n",
      "       'fastestLapSpeed', 'statusId'],\n",
      "      dtype='object')\n"
     ]
    }
   ],
   "source": [
    "drivers = pd.read_csv(os.path.join(\"donnees_formule_un\", \"drivers.csv\")\\\n",
    "    , on_bad_lines='skip')\n",
    "drivers.columns = drivers.columns.str.strip()\n",
    "drivers[\"forename\"] = drivers[\"forename\"].str.replace('\"', '').str.strip()\n",
    "drivers[\"surname\"] = drivers[\"surname\"].str.replace('\"', '').str.strip()\n",
    "drivers[\"nom_complet\"] = drivers[\"forename\"] + \" \" + drivers[\"surname\"]\n",
    "\n",
    "constructors = pd.read_csv(os.path.join(\"donnees_formule_un\", \"constructors.csv\"))\n",
    "constructors.columns = constructors.columns.str.strip()\n",
    "\n",
    "results = pd.read_csv(os.path.join(\"donnees_formule_un\", \"results.csv\"))\n",
    "results.columns = results.columns.str.strip()\n",
    "\n",
    "races = pd.read_csv(os.path.join(\"donnees_formule_un\", \"races.csv\"))\n",
    "races.columns = races.columns.str.strip()\n",
    "\n",
    "qualifying = pd.read_csv(os.path.join(\"donnees_formule_un\", \"qualifying.csv\"))\n",
    "qualifying.columns = qualifying.columns.str.strip()\n",
    "\n",
    "print(\"drivers\")\n",
    "print(drivers.columns)\n",
    "print(\"construtors\")\n",
    "print(constructors.columns)\n",
    "print(\"races\")\n",
    "print(races.columns)\n",
    "print(\"results\")\n",
    "print(results.columns)"
   ]
  },
  {
   "cell_type": "markdown",
   "id": "848d983b",
   "metadata": {},
   "source": [
    "Table énorme "
   ]
  },
  {
   "cell_type": "code",
   "execution_count": null,
   "id": "921f5acc",
   "metadata": {},
   "outputs": [
    {
     "name": "stdout",
     "output_type": "stream",
     "text": [
      "Index(['raceId_x', 'year', 'round', 'circuitId', 'name_x', 'date', 'time_x',\n",
      "       'url_x', 'fp1_date', 'fp1_time', 'fp2_date', 'fp2_time', 'fp3_date',\n",
      "       'fp3_time', 'quali_date', 'quali_time', 'sprint_date', 'sprint_time',\n",
      "       'resultId', 'driverId', 'constructorId_x', 'number_x', 'grid',\n",
      "       'position_x', 'positionText', 'positionOrder', 'points', 'laps',\n",
      "       'time_y', 'milliseconds', 'fastestLap', 'rank', 'fastestLapTime',\n",
      "       'fastestLapSpeed', 'statusId', 'constructorRef', 'name_y',\n",
      "       'nationality_x', 'url_y', 'qualifyId', 'raceId_y', 'constructorId_y',\n",
      "       'number_y', 'position_y', 'q1', 'q2', 'q3', 'driverRef', 'number',\n",
      "       'code', 'forename', 'surname', 'dob', 'nationality_y', 'url',\n",
      "       'nom_complet'],\n",
      "      dtype='object')\n"
     ]
    },
    {
     "ename": "KeyError",
     "evalue": "\"['raceId'] not in index\"",
     "output_type": "error",
     "traceback": [
      "\u001b[31m---------------------------------------------------------------------------\u001b[39m",
      "\u001b[31mKeyError\u001b[39m                                  Traceback (most recent call last)",
      "\u001b[36mCell\u001b[39m\u001b[36m \u001b[39m\u001b[32mIn[16]\u001b[39m\u001b[32m, line 8\u001b[39m\n\u001b[32m      6\u001b[39m \u001b[38;5;28mprint\u001b[39m(table.columns)\n\u001b[32m      7\u001b[39m \u001b[38;5;66;03m#sélectionner les variables dans la table\u001b[39;00m\n\u001b[32m----> \u001b[39m\u001b[32m8\u001b[39m table = \u001b[43mtable\u001b[49m\u001b[43m[\u001b[49m\u001b[43m[\u001b[49m\u001b[33;43m\"\u001b[39;49m\u001b[33;43mraceId\u001b[39;49m\u001b[33;43m\"\u001b[39;49m\u001b[43m,\u001b[49m\u001b[43m \u001b[49m\u001b[33;43m\"\u001b[39;49m\u001b[33;43myear\u001b[39;49m\u001b[33;43m\"\u001b[39;49m\u001b[43m,\u001b[49m\u001b[43m \u001b[49m\u001b[33;43m\"\u001b[39;49m\u001b[33;43mname_x\u001b[39;49m\u001b[33;43m\"\u001b[39;49m\u001b[43m,\u001b[49m\u001b[43m \u001b[49m\u001b[33;43m\"\u001b[39;49m\u001b[33;43mnom_complet\u001b[39;49m\u001b[33;43m\"\u001b[39;49m\u001b[43m,\u001b[49m\u001b[43m \u001b[49m\u001b[33;43m\"\u001b[39;49m\u001b[33;43mname_y\u001b[39;49m\u001b[33;43m\"\u001b[39;49m\u001b[43m,\u001b[49m\u001b[43m \u001b[49m\u001b[33;43m\"\u001b[39;49m\u001b[33;43mpositionOrder\u001b[39;49m\u001b[33;43m\"\u001b[39;49m\u001b[43m]\u001b[49m\u001b[43m]\u001b[49m\n",
      "\u001b[36mFile \u001b[39m\u001b[32m~\\AppData\\Local\\Packages\\PythonSoftwareFoundation.Python.3.11_qbz5n2kfra8p0\\LocalCache\\local-packages\\Python311\\site-packages\\pandas\\core\\frame.py:4108\u001b[39m, in \u001b[36mDataFrame.__getitem__\u001b[39m\u001b[34m(self, key)\u001b[39m\n\u001b[32m   4106\u001b[39m     \u001b[38;5;28;01mif\u001b[39;00m is_iterator(key):\n\u001b[32m   4107\u001b[39m         key = \u001b[38;5;28mlist\u001b[39m(key)\n\u001b[32m-> \u001b[39m\u001b[32m4108\u001b[39m     indexer = \u001b[38;5;28;43mself\u001b[39;49m\u001b[43m.\u001b[49m\u001b[43mcolumns\u001b[49m\u001b[43m.\u001b[49m\u001b[43m_get_indexer_strict\u001b[49m\u001b[43m(\u001b[49m\u001b[43mkey\u001b[49m\u001b[43m,\u001b[49m\u001b[43m \u001b[49m\u001b[33;43m\"\u001b[39;49m\u001b[33;43mcolumns\u001b[39;49m\u001b[33;43m\"\u001b[39;49m\u001b[43m)\u001b[49m[\u001b[32m1\u001b[39m]\n\u001b[32m   4110\u001b[39m \u001b[38;5;66;03m# take() does not accept boolean indexers\u001b[39;00m\n\u001b[32m   4111\u001b[39m \u001b[38;5;28;01mif\u001b[39;00m \u001b[38;5;28mgetattr\u001b[39m(indexer, \u001b[33m\"\u001b[39m\u001b[33mdtype\u001b[39m\u001b[33m\"\u001b[39m, \u001b[38;5;28;01mNone\u001b[39;00m) == \u001b[38;5;28mbool\u001b[39m:\n",
      "\u001b[36mFile \u001b[39m\u001b[32m~\\AppData\\Local\\Packages\\PythonSoftwareFoundation.Python.3.11_qbz5n2kfra8p0\\LocalCache\\local-packages\\Python311\\site-packages\\pandas\\core\\indexes\\base.py:6200\u001b[39m, in \u001b[36mIndex._get_indexer_strict\u001b[39m\u001b[34m(self, key, axis_name)\u001b[39m\n\u001b[32m   6197\u001b[39m \u001b[38;5;28;01melse\u001b[39;00m:\n\u001b[32m   6198\u001b[39m     keyarr, indexer, new_indexer = \u001b[38;5;28mself\u001b[39m._reindex_non_unique(keyarr)\n\u001b[32m-> \u001b[39m\u001b[32m6200\u001b[39m \u001b[38;5;28;43mself\u001b[39;49m\u001b[43m.\u001b[49m\u001b[43m_raise_if_missing\u001b[49m\u001b[43m(\u001b[49m\u001b[43mkeyarr\u001b[49m\u001b[43m,\u001b[49m\u001b[43m \u001b[49m\u001b[43mindexer\u001b[49m\u001b[43m,\u001b[49m\u001b[43m \u001b[49m\u001b[43maxis_name\u001b[49m\u001b[43m)\u001b[49m\n\u001b[32m   6202\u001b[39m keyarr = \u001b[38;5;28mself\u001b[39m.take(indexer)\n\u001b[32m   6203\u001b[39m \u001b[38;5;28;01mif\u001b[39;00m \u001b[38;5;28misinstance\u001b[39m(key, Index):\n\u001b[32m   6204\u001b[39m     \u001b[38;5;66;03m# GH 42790 - Preserve name from an Index\u001b[39;00m\n",
      "\u001b[36mFile \u001b[39m\u001b[32m~\\AppData\\Local\\Packages\\PythonSoftwareFoundation.Python.3.11_qbz5n2kfra8p0\\LocalCache\\local-packages\\Python311\\site-packages\\pandas\\core\\indexes\\base.py:6252\u001b[39m, in \u001b[36mIndex._raise_if_missing\u001b[39m\u001b[34m(self, key, indexer, axis_name)\u001b[39m\n\u001b[32m   6249\u001b[39m     \u001b[38;5;28;01mraise\u001b[39;00m \u001b[38;5;167;01mKeyError\u001b[39;00m(\u001b[33mf\u001b[39m\u001b[33m\"\u001b[39m\u001b[33mNone of [\u001b[39m\u001b[38;5;132;01m{\u001b[39;00mkey\u001b[38;5;132;01m}\u001b[39;00m\u001b[33m] are in the [\u001b[39m\u001b[38;5;132;01m{\u001b[39;00maxis_name\u001b[38;5;132;01m}\u001b[39;00m\u001b[33m]\u001b[39m\u001b[33m\"\u001b[39m)\n\u001b[32m   6251\u001b[39m not_found = \u001b[38;5;28mlist\u001b[39m(ensure_index(key)[missing_mask.nonzero()[\u001b[32m0\u001b[39m]].unique())\n\u001b[32m-> \u001b[39m\u001b[32m6252\u001b[39m \u001b[38;5;28;01mraise\u001b[39;00m \u001b[38;5;167;01mKeyError\u001b[39;00m(\u001b[33mf\u001b[39m\u001b[33m\"\u001b[39m\u001b[38;5;132;01m{\u001b[39;00mnot_found\u001b[38;5;132;01m}\u001b[39;00m\u001b[33m not in index\u001b[39m\u001b[33m\"\u001b[39m)\n",
      "\u001b[31mKeyError\u001b[39m: \"['raceId'] not in index\""
     ]
    }
   ],
   "source": [
    "table_1 = pd.merge(races, results, on= \"raceId\")\n",
    "table_2 = pd.merge(table_1, constructors, on = \"constructorId\")\n",
    "table_3 = pd.merge(table_2, qualifying, on = \"driverId\")\n",
    "table = pd.merge(table_3, drivers, on = \"driverId\")\n",
    "\n",
    "print(table.columns)\n",
    "#sélectionner les variables dans la table\n",
    "table = table[['raceId', 'year', 'name_x', 'nom_complet', 'name_y', 'positionOrder']]"
   ]
  },
  {
   "cell_type": "markdown",
   "id": "23418fa4",
   "metadata": {},
   "source": [
    "Info : \n",
    "name_x = nom du circuit \n",
    "name_y = nom de constructeur "
   ]
  },
  {
   "cell_type": "markdown",
   "id": "b50b582c",
   "metadata": {},
   "source": [
    "Transformer les variables catégorielles en variables binaires : \n",
    "L'écurie des pilotes : "
   ]
  },
  {
   "cell_type": "code",
   "execution_count": 8,
   "id": "74cbaeea",
   "metadata": {},
   "outputs": [
    {
     "name": "stdout",
     "output_type": "stream",
     "text": [
      "   resultId  raceId  driverId  constructorId   number  grid   position  \\\n",
      "0         1      18         1              1   22         1   1          \n",
      "1         2      18         2              2   3          5   2          \n",
      "2         3      18         3              3   7          7   3          \n",
      "3         4      18         4              4   5         11   4          \n",
      "4         5      18         5              1   23         3   5          \n",
      "\n",
      "    positionText  positionOrder  points  laps            time   milliseconds  \\\n",
      "0   \"1\"                       1    10.0    58   \"1:34:50.616\"   5690616        \n",
      "1   \"2\"                       2     8.0    58   \"+5.478\"        5696094        \n",
      "2   \"3\"                       3     6.0    58   \"+8.163\"        5698779        \n",
      "3   \"4\"                       4     5.0    58   \"+17.181\"       5707797        \n",
      "4   \"5\"                       5     4.0    58   \"+18.014\"       5708630        \n",
      "\n",
      "    fastestLap   rank   fastestLapTime   fastestLapSpeed  statusId  \\\n",
      "0   39           2      \"1:27.452\"       \"218.300\"               1   \n",
      "1   41           3      \"1:27.739\"       \"217.586\"               1   \n",
      "2   41           5      \"1:28.090\"       \"216.719\"               1   \n",
      "3   58           7      \"1:28.603\"       \"215.464\"               1   \n",
      "4   43           1      \"1:27.418\"       \"218.385\"               1   \n",
      "\n",
      "         nom_complet                          name  \n",
      "0     Lewis Hamilton   \"McLaren\"                    \n",
      "1      Nick Heidfeld   \"BMW Sauber\"                 \n",
      "2       Nico Rosberg   \"Williams\"                   \n",
      "3    Fernando Alonso   \"Renault\"                    \n",
      "4  Heikki Kovalainen   \"McLaren\"                    \n"
     ]
    }
   ],
   "source": [
    "import pandas as pd\n",
    "\n",
    "# 1️⃣ Chargement des DataFrames\n",
    "df_ecurie = pd.DataFrame(constructors)\n",
    "df_resultat = pd.DataFrame(results)\n",
    "df_pilote = pd.DataFrame(drivers)\n",
    "\n",
    "# 2️⃣ Merge des résultats avec les noms des pilotes\n",
    "df_pilote_resultat = df_resultat.merge(\n",
    "    df_pilote[['driverId', 'nom_complet']],\n",
    "    on='driverId',\n",
    "    how='left'\n",
    ")\n",
    "\n",
    "# 3️⃣ Merge avec les noms des écuries\n",
    "df_pilote_ecurie = df_pilote_resultat.merge(\n",
    "    df_ecurie[['constructorId', 'name']],\n",
    "    on='constructorId',\n",
    "    how='left'\n",
    ")\n",
    "\n",
    "print(df_pilote_ecurie.head())\n",
    "\n",
    "\n"
   ]
  },
  {
   "cell_type": "markdown",
   "id": "b485712e",
   "metadata": {},
   "source": []
  },
  {
   "cell_type": "code",
   "execution_count": null,
   "id": "84c19bc6",
   "metadata": {},
   "outputs": [],
   "source": []
  }
 ],
 "metadata": {
  "kernelspec": {
   "display_name": "Python 3",
   "language": "python",
   "name": "python3"
  },
  "language_info": {
   "codemirror_mode": {
    "name": "ipython",
    "version": 3
   },
   "file_extension": ".py",
   "mimetype": "text/x-python",
   "name": "python",
   "nbconvert_exporter": "python",
   "pygments_lexer": "ipython3",
   "version": "3.11.9"
  }
 },
 "nbformat": 4,
 "nbformat_minor": 5
}
