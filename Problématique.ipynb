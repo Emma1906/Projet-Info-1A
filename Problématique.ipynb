{
 "cells": [
  {
   "cell_type": "markdown",
   "id": "92b12c22",
   "metadata": {},
   "source": [
    "Comment prédire le podium d'une course de Formule Un ? "
   ]
  },
  {
   "cell_type": "markdown",
   "id": "44c653a9",
   "metadata": {},
   "source": [
    "Librairies : "
   ]
  },
  {
   "cell_type": "code",
   "execution_count": 2,
   "id": "090631b9",
   "metadata": {},
   "outputs": [],
   "source": [
    "import pandas as pd\n",
    "import os\n",
    "import csv"
   ]
  },
  {
   "cell_type": "markdown",
   "id": "66672588",
   "metadata": {},
   "source": [
    "Chargement des données : "
   ]
  },
  {
   "cell_type": "code",
   "execution_count": 4,
   "id": "29bacd67",
   "metadata": {},
   "outputs": [
    {
     "name": "stdout",
     "output_type": "stream",
     "text": [
      "Index(['constructorId', 'constructorRef', 'name', 'nationality', 'url'], dtype='object')\n",
      "Index(['raceId', 'year', 'round', 'circuitId', 'name', 'date', 'time', 'url',\n",
      "       'fp1_date', 'fp1_time', 'fp2_date', 'fp2_time', 'fp3_date', 'fp3_time',\n",
      "       'quali_date', 'quali_time', 'sprint_date', 'sprint_time'],\n",
      "      dtype='object')\n"
     ]
    }
   ],
   "source": [
    "drivers = pd.read_csv(os.path.join(\"donnees_formule_un\", \"drivers.csv\")\\\n",
    "    , on_bad_lines='skip')\n",
    "drivers.columns = drivers.columns.str.strip()\n",
    "drivers[\"forename\"] = drivers[\"forename\"].str.replace('\"', '').str.strip()\n",
    "drivers[\"surname\"] = drivers[\"surname\"].str.replace('\"', '').str.strip()\n",
    "drivers[\"nom_complet\"] = drivers[\"forename\"] + \" \" + drivers[\"surname\"]\n",
    "\n",
    "constructors = pd.read_csv(os.path.join(\"donnees_formule_un\", \"constructors.csv\"))\n",
    "constructors.columns = constructors.columns.str.strip()\n",
    "\n",
    "results = pd.read_csv(os.path.join(\"donnees_formule_un\", \"results.csv\"))\n",
    "results.columns = results.columns.str.strip()\n",
    "\n",
    "races = pd.read_csv(os.path.join(\"donnees_formule_un\", \"races.csv\"))\n",
    "races.columns = races.columns.str.strip() \n",
    "\n",
    "print(constructors.columns)\n",
    "print(races.columns)"
   ]
  },
  {
   "cell_type": "markdown",
   "id": "b50b582c",
   "metadata": {},
   "source": [
    "Transformer les variables catégorielles en variables binaires : \n",
    "L'écurie des pilotes : "
   ]
  },
  {
   "cell_type": "code",
   "execution_count": 30,
   "id": "74cbaeea",
   "metadata": {},
   "outputs": [
    {
     "name": "stdout",
     "output_type": "stream",
     "text": [
      "   resultId  raceId  driverId  constructorId   number  grid   position  \\\n",
      "0         1      18         1              1   22         1   1          \n",
      "1         2      18         2              2   3          5   2          \n",
      "2         3      18         3              3   7          7   3          \n",
      "3         4      18         4              4   5         11   4          \n",
      "4         5      18         5              1   23         3   5          \n",
      "\n",
      "    positionText  positionOrder  points  laps            time   milliseconds  \\\n",
      "0   \"1\"                       1    10.0    58   \"1:34:50.616\"   5690616        \n",
      "1   \"2\"                       2     8.0    58   \"+5.478\"        5696094        \n",
      "2   \"3\"                       3     6.0    58   \"+8.163\"        5698779        \n",
      "3   \"4\"                       4     5.0    58   \"+17.181\"       5707797        \n",
      "4   \"5\"                       5     4.0    58   \"+18.014\"       5708630        \n",
      "\n",
      "    fastestLap   rank   fastestLapTime   fastestLapSpeed  statusId  \\\n",
      "0   39           2      \"1:27.452\"       \"218.300\"               1   \n",
      "1   41           3      \"1:27.739\"       \"217.586\"               1   \n",
      "2   41           5      \"1:28.090\"       \"216.719\"               1   \n",
      "3   58           7      \"1:28.603\"       \"215.464\"               1   \n",
      "4   43           1      \"1:27.418\"       \"218.385\"               1   \n",
      "\n",
      "         nom_complet                          name  \n",
      "0     Lewis Hamilton   \"McLaren\"                    \n",
      "1      Nick Heidfeld   \"BMW Sauber\"                 \n",
      "2       Nico Rosberg   \"Williams\"                   \n",
      "3    Fernando Alonso   \"Renault\"                    \n",
      "4  Heikki Kovalainen   \"McLaren\"                    \n"
     ]
    }
   ],
   "source": [
    "import pandas as pd\n",
    "\n",
    "# 1️⃣ Chargement des DataFrames\n",
    "df_ecurie = pd.DataFrame(constructors)\n",
    "df_resultat = pd.DataFrame(results)\n",
    "df_pilote = pd.DataFrame(drivers)\n",
    "\n",
    "# 2️⃣ Merge des résultats avec les noms des pilotes\n",
    "df_pilote_resultat = df_resultat.merge(\n",
    "    df_pilote[['driverId', 'nom_complet']],\n",
    "    on='driverId',\n",
    "    how='left'\n",
    ")\n",
    "\n",
    "# 3️⃣ Merge avec les noms des écuries\n",
    "df_pilote_ecurie = df_pilote_resultat.merge(\n",
    "    df_ecurie[['constructorId', 'name']],\n",
    "    on='constructorId',\n",
    "    how='left'\n",
    ")\n",
    "\n",
    "print(df_pilote_ecurie.head())\n",
    "\n",
    "\n"
   ]
  },
  {
   "cell_type": "markdown",
   "id": "b485712e",
   "metadata": {},
   "source": []
  },
  {
   "cell_type": "code",
   "execution_count": null,
   "id": "84c19bc6",
   "metadata": {},
   "outputs": [],
   "source": []
  }
 ],
 "metadata": {
  "kernelspec": {
   "display_name": "Python 3",
   "language": "python",
   "name": "python3"
  },
  "language_info": {
   "codemirror_mode": {
    "name": "ipython",
    "version": 3
   },
   "file_extension": ".py",
   "mimetype": "text/x-python",
   "name": "python",
   "nbconvert_exporter": "python",
   "pygments_lexer": "ipython3",
   "version": "3.11.9"
  }
 },
 "nbformat": 4,
 "nbformat_minor": 5
}
