{
 "cells": [
  {
   "cell_type": "code",
   "execution_count": null,
   "id": "3a71b952",
   "metadata": {},
   "outputs": [],
   "source": [
    "import tkinter as tk\n",
    "from tkinter import ttk\n",
    "import "
   ]
  },
  {
   "cell_type": "markdown",
   "id": "076c5623",
   "metadata": {},
   "source": [
    "Dictionnaire liant les questions à leurs fonctions : "
   ]
  },
  {
   "cell_type": "code",
   "execution_count": null,
   "id": "cb2eb8df",
   "metadata": {},
   "outputs": [],
   "source": [
    "qa_functions = {\n",
    "    \"Quels pilotes ont remporté au moins 30 courses ?\": nom_pilotes_30_victoires\n",
    "}"
   ]
  },
  {
   "cell_type": "markdown",
   "id": "ad4c637c",
   "metadata": {},
   "source": [
    "Interface : "
   ]
  },
  {
   "cell_type": "code",
   "execution_count": 4,
   "id": "ed20e18b",
   "metadata": {},
   "outputs": [],
   "source": [
    "fenetre = tk.Tk()\n",
    "fenetre.title(\"Questions Formule 1\")\n",
    "\n",
    "fenetre.mainloop()"
   ]
  }
 ],
 "metadata": {
  "kernelspec": {
   "display_name": "Python 3",
   "language": "python",
   "name": "python3"
  },
  "language_info": {
   "codemirror_mode": {
    "name": "ipython",
    "version": 3
   },
   "file_extension": ".py",
   "mimetype": "text/x-python",
   "name": "python",
   "nbconvert_exporter": "python",
   "pygments_lexer": "ipython3",
   "version": "3.11.9"
  }
 },
 "nbformat": 4,
 "nbformat_minor": 5
}
