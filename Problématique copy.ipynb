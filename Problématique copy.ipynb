{
 "cells": [
  {
   "cell_type": "markdown",
   "id": "92b12c22",
   "metadata": {},
   "source": [
    "Comment prédire le podium d'une course de Formule Un ? "
   ]
  },
  {
   "cell_type": "markdown",
   "id": "44c653a9",
   "metadata": {},
   "source": [
    "Librairies : "
   ]
  },
  {
   "cell_type": "code",
   "execution_count": 1,
   "id": "090631b9",
   "metadata": {},
   "outputs": [],
   "source": [
    "import pandas as pd\n",
    "import os\n",
    "import csv\n",
    "import matplotlib.pyplot as plt\n"
   ]
  },
  {
   "cell_type": "markdown",
   "id": "66672588",
   "metadata": {},
   "source": [
    "Chargement des données : "
   ]
  },
  {
   "cell_type": "code",
   "execution_count": 2,
   "id": "29bacd67",
   "metadata": {},
   "outputs": [
    {
     "name": "stdout",
     "output_type": "stream",
     "text": [
      "drivers\n",
      "Index(['driverId', 'driverRef', 'number', 'code', 'forename', 'surname', 'dob',\n",
      "       'nationality', 'url', 'nom_complet'],\n",
      "      dtype='object')\n",
      "construtors\n",
      "Index(['constructorId', 'constructorRef', 'name', 'nationality', 'url'], dtype='object')\n",
      "races\n",
      "Index(['raceId', 'year', 'round', 'circuitId', 'name', 'date', 'time', 'url',\n",
      "       'fp1_date', 'fp1_time', 'fp2_date', 'fp2_time', 'fp3_date', 'fp3_time',\n",
      "       'quali_date', 'quali_time', 'sprint_date', 'sprint_time'],\n",
      "      dtype='object')\n",
      "results\n",
      "Index(['resultId', 'raceId', 'driverId', 'constructorId', 'number', 'grid',\n",
      "       'position', 'positionText', 'positionOrder', 'points', 'laps', 'time',\n",
      "       'milliseconds', 'fastestLap', 'rank', 'fastestLapTime',\n",
      "       'fastestLapSpeed', 'statusId'],\n",
      "      dtype='object')\n"
     ]
    },
    {
     "data": {
      "text/plain": [
       "'print(\"qualifying\")\\nprint(qualifying.columns)'"
      ]
     },
     "execution_count": 2,
     "metadata": {},
     "output_type": "execute_result"
    }
   ],
   "source": [
    "drivers = pd.read_csv(os.path.join(\"donnees_formule_un\", \"drivers.csv\")\\\n",
    "    , on_bad_lines='skip')\n",
    "drivers.columns = drivers.columns.str.strip()\n",
    "drivers[\"forename\"] = drivers[\"forename\"].str.replace('\"', '').str.strip()\n",
    "drivers[\"surname\"] = drivers[\"surname\"].str.replace('\"', '').str.strip()\n",
    "drivers[\"nom_complet\"] = drivers[\"forename\"] + \" \" + drivers[\"surname\"]\n",
    "\n",
    "constructors = pd.read_csv(os.path.join(\"donnees_formule_un\", \"constructors.csv\"))\n",
    "constructors.columns = constructors.columns.str.strip()\n",
    "\n",
    "results = pd.read_csv(os.path.join(\"donnees_formule_un\", \"results.csv\"))\n",
    "results.columns = results.columns.str.strip()\n",
    "\n",
    "races = pd.read_csv(os.path.join(\"donnees_formule_un\", \"races.csv\"))\n",
    "races.columns = races.columns.str.strip()\n",
    "\n",
    "\"\"\"qualifying = pd.read_csv(os.path.join(\"donnees_formule_un\", \"qualifying.csv\"))\n",
    "qualifying.columns = qualifying.columns.str.strip()\"\"\"\n",
    "\n",
    "print(\"drivers\")\n",
    "print(drivers.columns)\n",
    "print(\"construtors\")\n",
    "print(constructors.columns)\n",
    "print(\"races\")\n",
    "print(races.columns)\n",
    "print(\"results\")\n",
    "print(results.columns)\n",
    "\"\"\"print(\"qualifying\")\n",
    "print(qualifying.columns)\"\"\""
   ]
  },
  {
   "cell_type": "markdown",
   "id": "848d983b",
   "metadata": {},
   "source": [
    "Table énorme "
   ]
  },
  {
   "cell_type": "code",
   "execution_count": 55,
   "id": "921f5acc",
   "metadata": {},
   "outputs": [
    {
     "name": "stdout",
     "output_type": "stream",
     "text": [
      "Index(['raceId', 'year', 'round', 'circuitId', 'name_x', 'date', 'time_x',\n",
      "       'url_x', 'fp1_date', 'fp1_time', 'fp2_date', 'fp2_time', 'fp3_date',\n",
      "       'fp3_time', 'quali_date', 'quali_time', 'sprint_date', 'sprint_time',\n",
      "       'resultId', 'driverId', 'constructorId', 'number_x', 'grid', 'position',\n",
      "       'positionText', 'positionOrder', 'points', 'laps', 'time_y',\n",
      "       'milliseconds', 'fastestLap', 'rank', 'fastestLapTime',\n",
      "       'fastestLapSpeed', 'statusId', 'constructorRef', 'name_y',\n",
      "       'nationality_x', 'url_y', 'driverRef', 'number_y', 'code', 'forename',\n",
      "       'surname', 'dob', 'nationality_y', 'url', 'nom_complet'],\n",
      "      dtype='object')\n",
      "       raceId  year                            name_x      nom_complet  \\\n",
      "25810    1098  2023   \"Bahrain Grand Prix\"              Max Verstappen   \n",
      "25811    1098  2023   \"Bahrain Grand Prix\"                Sergio Pérez   \n",
      "25812    1098  2023   \"Bahrain Grand Prix\"             Fernando Alonso   \n",
      "25813    1098  2023   \"Bahrain Grand Prix\"                Carlos Sainz   \n",
      "25814    1098  2023   \"Bahrain Grand Prix\"              Lewis Hamilton   \n",
      "\n",
      "                             name_y  positionOrder  grid  \n",
      "25810   \"Red Bull\"                               1     1  \n",
      "25811   \"Red Bull\"                               2     2  \n",
      "25812   \"Aston Martin\"                           3     5  \n",
      "25813   \"Ferrari\"                                4     4  \n",
      "25814   \"Mercedes\"                               5     7  \n"
     ]
    }
   ],
   "source": [
    "table_1 = pd.merge(races, results, on= \"raceId\")\n",
    "table_2 = pd.merge(table_1, constructors, on = \"constructorId\")\n",
    "table = pd.merge(table_2, drivers, on = \"driverId\")\n",
    "print(table.columns)\n",
    "#sélectionner les variables dans la table\n",
    "table = table[['raceId', 'year', 'name_x', 'nom_complet', 'name_y', 'positionOrder', 'grid']]\n",
    "\n",
    "# table triée sur les années 2023 et 2024 :\n",
    "df = table[(table['year'] == 2023) | (table['year'] == 2024)]\n",
    "df = df.drop_duplicates(subset=['raceId', 'nom_complet']) # éviter les doublons\n",
    "print(df.head())\n"
   ]
  },
  {
   "cell_type": "markdown",
   "id": "23418fa4",
   "metadata": {},
   "source": [
    "Info :\n",
    "name_x = nom du circuit \n",
    "name_y = nom de constructeur "
   ]
  },
  {
   "cell_type": "markdown",
   "id": "a4f6c916",
   "metadata": {},
   "source": [
    "Variables utilisées pour la régression logistique "
   ]
  },
  {
   "cell_type": "code",
   "execution_count": null,
   "id": "a6135670",
   "metadata": {},
   "outputs": [
    {
     "name": "stdout",
     "output_type": "stream",
     "text": [
      "Index(['raceId', 'year', 'name_x', 'nom_complet', 'name_y', 'positionOrder',\n",
      "       'grid', 'nb_podium_2_ans_x', 'nb_podium_2_ans_y', 'ecurie',\n",
      "       'nb_victoire_2_ans', 'nb_podium_2_ans', 'ecurie_Alfa Romeo',\n",
      "       'ecurie_AlphaTauri', 'ecurie_Alpine F1 Team', 'ecurie_Aston Martin',\n",
      "       'ecurie_Ferrari', 'ecurie_Haas F1 Team', 'ecurie_McLaren',\n",
      "       'ecurie_Mercedes', 'ecurie_RB F1 Team', 'ecurie_Red Bull',\n",
      "       'ecurie_Sauber', 'ecurie_Williams'],\n",
      "      dtype='object')\n",
      "   raceId  year                            name_x      nom_complet  \\\n",
      "0    1098  2023   \"Bahrain Grand Prix\"              Max Verstappen   \n",
      "1    1098  2023   \"Bahrain Grand Prix\"                Sergio Pérez   \n",
      "2    1098  2023   \"Bahrain Grand Prix\"             Fernando Alonso   \n",
      "3    1098  2023   \"Bahrain Grand Prix\"                Carlos Sainz   \n",
      "4    1098  2023   \"Bahrain Grand Prix\"              Lewis Hamilton   \n",
      "\n",
      "         name_y  positionOrder  grid  nb_podium_2_ans_x  nb_podium_2_ans_y  \\\n",
      "0      Red Bull              1     1               30.0               30.0   \n",
      "1      Red Bull              2     2               13.0               13.0   \n",
      "2  Aston Martin              3     5                8.0                8.0   \n",
      "3       Ferrari              4     4                8.0                8.0   \n",
      "4      Mercedes              5     7                8.0                8.0   \n",
      "\n",
      "         ecurie  ...  ecurie_Alpine F1 Team  ecurie_Aston Martin  \\\n",
      "0      Red Bull  ...                      0                    0   \n",
      "1      Red Bull  ...                      0                    0   \n",
      "2  Aston Martin  ...                      0                    1   \n",
      "3       Ferrari  ...                      0                    0   \n",
      "4      Mercedes  ...                      0                    0   \n",
      "\n",
      "   ecurie_Ferrari  ecurie_Haas F1 Team  ecurie_McLaren  ecurie_Mercedes  \\\n",
      "0               0                    0               0                0   \n",
      "1               0                    0               0                0   \n",
      "2               0                    0               0                0   \n",
      "3               1                    0               0                0   \n",
      "4               0                    0               0                1   \n",
      "\n",
      "   ecurie_RB F1 Team  ecurie_Red Bull  ecurie_Sauber  ecurie_Williams  \n",
      "0                  0                1              0                0  \n",
      "1                  0                1              0                0  \n",
      "2                  0                0              0                0  \n",
      "3                  0                0              0                0  \n",
      "4                  0                0              0                0  \n",
      "\n",
      "[5 rows x 24 columns]\n"
     ]
    }
   ],
   "source": [
    "# Nombre de victoires par pilote\n",
    "nb_victoire_2_ans = df[df[\"positionOrder\"] == 1].groupby(\"nom_complet\").size()\n",
    "# Ajouter un nom à la Série pour pouvoir la fusionner\n",
    "nb_victoire_2_ans.name = 'nb_victoire_2_ans'\n",
    "# Fusionner avec le DataFrame df\n",
    "if 'nb_victoire_2_ans' in df.columns:\n",
    "    df = df.drop(columns=['nb_victoire_2_ans'])\n",
    "\n",
    "df = df.merge(nb_victoire_2_ans, on = \"nom_complet\", how = \"left\")\n",
    "df[\"nb_victoire_2_ans\"] = df[\"nb_victoire_2_ans\"].fillna(0)\n",
    "\n",
    "\n",
    "# Nombre de podium par pilote\n",
    "nb_podium_2_ans = df[(df[\"positionOrder\"] == 1) | (df[\"positionOrder\"] == 2)\\\n",
    "    | (df[\"positionOrder\"] == 3)].groupby(\"nom_complet\").size()\n",
    "# Ajouter un nom à la Série pour pouvoir la fusionner\n",
    "nb_podium_2_ans.name = 'nb_podium_2_ans'\n",
    "if 'nb_podium_2_ans' in df.columns:\n",
    "    df = df.drop(columns=['nb_podium_2_ans'])\n",
    "# Fusionner avec le DataFrame df\n",
    "df = df.merge(nb_podium_2_ans, on = \"nom_complet\", how = \"left\")\n",
    "# Remplir les NaN avec 0\n",
    "df[\"nb_podium_2_ans\"] = df[\"nb_podium_2_ans\"].fillna(0)\n",
    "\n",
    "\n",
    "# Position au départ de la course\n",
    "# correspond à la variable grid de df\n",
    "\n",
    "\n",
    "# Ecurie actuelle du pilote\n",
    "df['name_y'] = df['name_y'].str.strip('\" ') #pour avoir un nom prore\n",
    "# Supprimer les anciennes colonnes d'ecurie si elles existent déjà\n",
    "df = df.loc[:, ~df.columns.str.startswith('ecurie_')]\n",
    "# Ecurie actuelle du pilote\n",
    "df['ecurie'] = df['name_y'].str.strip()    # très important de STRIP ici aussi !!\n",
    "# One-Hot Encoding\n",
    "ecuries_encoded = pd.get_dummies(df['ecurie'], prefix='ecurie')\n",
    "# Ajouter les colonnes au DataFrame\n",
    "df = pd.concat([df, ecuries_encoded], axis=1)\n",
    "\n",
    "\n",
    "# Convertir tout booléen en int (True → 1, False → 0)\n",
    "df = df.astype({col: int for col in df.select_dtypes(include='bool').columns})\n",
    "\n",
    "# Position actuelle dans le championnat\n",
    "# correspond à  la variable position de la table driver standings\n",
    "\n",
    "# Afficher les colonnes du DataFrame\n",
    "df.columns = df.columns.str.strip()\n",
    "print(df.columns)\n",
    "print(df.head())\n"
   ]
  },
  {
   "cell_type": "markdown",
   "id": "700545aa",
   "metadata": {},
   "source": [
    "Régression logistique "
   ]
  },
  {
   "cell_type": "code",
   "execution_count": 72,
   "id": "bf84ff44",
   "metadata": {},
   "outputs": [
    {
     "name": "stdout",
     "output_type": "stream",
     "text": [
      "Accuracy du modèle pour la prédiction du podium : 0.88\n"
     ]
    }
   ],
   "source": [
    "from sklearn.linear_model import LogisticRegression\n",
    "from sklearn.model_selection import train_test_split\n",
    "from sklearn.metrics import accuracy_score\n",
    "\n",
    "# 1. Variable cible : sur le podium ou non\n",
    "df[\"sur_podium\"] = df[\"positionOrder\"].isin([1, 2, 3]).astype(int)\n",
    "\n",
    "# 2. Convertir les booléens en 0/1\n",
    "df = df.astype({col: int for col in df.select_dtypes(include='bool').columns})\n",
    "\n",
    "# 3. Définir les features (X) et la cible (y)\n",
    "colonnes_a_exclure = ['raceId', 'year', 'name_x', 'name_y', 'nom_complet', 'ecurie', 'sur_podium', 'positionOrder']\n",
    "X = df.drop(columns=colonnes_a_exclure)\n",
    "y = df['sur_podium']\n",
    "# traiter les valeurs manquantes\n",
    "X = X.fillna(0)\n",
    "\n",
    "\n",
    "# 4. Séparation train/test\n",
    "X_train, X_test, y_train, y_test = train_test_split(X, y, test_size=0.3, random_state=42)\n",
    "\n",
    "# 5. Entraîner le modèle\n",
    "model = LogisticRegression(max_iter=1000)\n",
    "model.fit(X_train, y_train)\n",
    "\n",
    "# 6. Prédictions\n",
    "y_pred = model.predict(X_test)\n",
    "\n",
    "# 7. Évaluation\n",
    "accuracy = accuracy_score(y_test, y_pred)\n",
    "print(f\"Accuracy du modèle pour la prédiction du podium : {accuracy:.2f}\")\n"
   ]
  },
  {
   "cell_type": "markdown",
   "id": "6d872821",
   "metadata": {},
   "source": [
    "Une accuracy de 0.88 signifie que 88% des observations testées ont été bien classées. "
   ]
  },
  {
   "cell_type": "code",
   "execution_count": 71,
   "id": "d22d635d",
   "metadata": {},
   "outputs": [
    {
     "data": {
      "image/png": "[encoded data removed]",
      "text/plain": [
       "<Figure size 640x480 with 2 Axes>"
      ]
     },
     "metadata": {},
     "output_type": "display_data"
    },
    {
     "name": "stdout",
     "output_type": "stream",
     "text": [
      "Rapport de classification :\n",
      "              precision    recall  f1-score   support\n",
      "\n",
      "  Pas podium       0.92      0.93      0.93       172\n",
      "      Podium       0.61      0.59      0.60        32\n",
      "\n",
      "    accuracy                           0.88       204\n",
      "   macro avg       0.77      0.76      0.77       204\n",
      "weighted avg       0.88      0.88      0.88       204\n",
      "\n"
     ]
    }
   ],
   "source": [
    "from sklearn.metrics import confusion_matrix, classification_report, ConfusionMatrixDisplay\n",
    "\n",
    "# 1. Matrice de confusion\n",
    "cm = confusion_matrix(y_test, y_pred)\n",
    "disp = ConfusionMatrixDisplay(confusion_matrix=cm, display_labels=[\"Pas podium\", \"Podium\"])\n",
    "disp.plot(cmap=\"Blues\")\n",
    "plt.title(\"Matrice de confusion\")\n",
    "plt.show()\n",
    "\n",
    "# 2. Rapport de classification\n",
    "print(\"Rapport de classification :\")\n",
    "print(classification_report(y_test, y_pred, target_names=[\"Pas podium\", \"Podium\"]))\n"
   ]
  },
  {
   "cell_type": "markdown",
   "id": "245b1690",
   "metadata": {},
   "source": [
    "Matrice de confusion : 160 vrais négatifs ; 19 vrais positifs ; 13 faux négatifs ; 12 faux positifs \n",
    "\n",
    "Rapport de classification : racall = taux de faux négatifs, le modèle rate des podium ou des non podium, plus il est faible plus le modèle rate ; precision = plus elle est faible plus le modèle prédit à tord ; F1 score = équilibre de ces deux aspects "
   ]
  },
  {
   "cell_type": "markdown",
   "id": "5cf0a42c",
   "metadata": {},
   "source": [
    "Conclusion : pour l'instant le modèle est déséquilibré, il est très bon pour prédire pas podium mais beaucoup moins pour prédire le podium. \n",
    "\n"
   ]
  },
  {
   "cell_type": "markdown",
   "id": "4a6376fc",
   "metadata": {},
   "source": [
    "Pistes d'amélioration : tester la régression logistique avec class_weight=\"balanced\", ce qui compense automatiquement le déséquilibre entre les classes."
   ]
  },
  {
   "cell_type": "code",
   "execution_count": 75,
   "id": "9fba8c07",
   "metadata": {},
   "outputs": [
    {
     "name": "stdout",
     "output_type": "stream",
     "text": [
      "Accuracy du modèle pour la prédiction du podium : 0.85\n"
     ]
    },
    {
     "data": {
      "image/png": "[encoded data removed]",
      "text/plain": [
       "<Figure size 640x480 with 2 Axes>"
      ]
     },
     "metadata": {},
     "output_type": "display_data"
    },
    {
     "name": "stdout",
     "output_type": "stream",
     "text": [
      "Rapport de classification :\n",
      "              precision    recall  f1-score   support\n",
      "\n",
      "  Pas podium       0.97      0.85      0.91       172\n",
      "      Podium       0.52      0.84      0.64        32\n",
      "\n",
      "    accuracy                           0.85       204\n",
      "   macro avg       0.74      0.85      0.78       204\n",
      "weighted avg       0.90      0.85      0.87       204\n",
      "\n"
     ]
    }
   ],
   "source": [
    "\n",
    "from sklearn.linear_model import LogisticRegression\n",
    "from sklearn.model_selection import train_test_split\n",
    "from sklearn.metrics import accuracy_score\n",
    "\n",
    "# 1. Variable cible : sur le podium ou non\n",
    "df[\"sur_podium\"] = df[\"positionOrder\"].isin([1, 2, 3]).astype(int)\n",
    "\n",
    "# 2. Convertir les booléens en 0/1\n",
    "df = df.astype({col: int for col in df.select_dtypes(include='bool').columns})\n",
    "\n",
    "# 3. Définir les features (X) et la cible (y)\n",
    "colonnes_a_exclure = ['raceId', 'year', 'name_x', 'name_y', 'nom_complet', 'ecurie', 'sur_podium', 'positionOrder']\n",
    "X = df.drop(columns=colonnes_a_exclure)\n",
    "y = df['sur_podium']\n",
    "# traiter les valeurs manquantes\n",
    "X = X.fillna(0)\n",
    "\n",
    "\n",
    "# 4. Séparation train/test\n",
    "X_train, X_test, y_train, y_test = train_test_split(X, y, test_size=0.3, random_state=42)\n",
    "\n",
    "# 5. Entraîner le modèle\n",
    "model = LogisticRegression(max_iter=1000, class_weight=\"balanced\")\n",
    "model.fit(X_train, y_train)\n",
    "\n",
    "# 6. Prédictions\n",
    "y_pred = model.predict(X_test)\n",
    "\n",
    "# 7. Évaluation\n",
    "accuracy = accuracy_score(y_test, y_pred)\n",
    "print(f\"Accuracy du modèle pour la prédiction du podium : {accuracy:.2f}\")\n",
    "\n",
    "from sklearn.metrics import confusion_matrix, classification_report, ConfusionMatrixDisplay\n",
    "\n",
    "# 1. Matrice de confusion\n",
    "cm = confusion_matrix(y_test, y_pred)\n",
    "disp = ConfusionMatrixDisplay(confusion_matrix=cm, display_labels=[\"Pas podium\", \"Podium\"])\n",
    "disp.plot(cmap=\"Blues\")\n",
    "plt.title(\"Matrice de confusion\")\n",
    "plt.show()\n",
    "\n",
    "# 2. Rapport de classification\n",
    "print(\"Rapport de classification :\")\n",
    "print(classification_report(y_test, y_pred, target_names=[\"Pas podium\", \"Podium\"]))"
   ]
  }
 ],
 "metadata": {
  "kernelspec": {
   "display_name": "Python 3",
   "language": "python",
   "name": "python3"
  },
  "language_info": {
   "codemirror_mode": {
    "name": "ipython",
    "version": 3
   },
   "file_extension": ".py",
   "mimetype": "text/x-python",
   "name": "python",
   "nbconvert_exporter": "python",
   "pygments_lexer": "ipython3",
   "version": "3.11.9"
  }
 },
 "nbformat": 4,
 "nbformat_minor": 5
}
