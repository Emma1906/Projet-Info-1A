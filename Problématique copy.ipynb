{
 "cells": [
  {
   "cell_type": "markdown",
   "id": "92b12c22",
   "metadata": {},
   "source": [
    "Comment prédire le podium d'une course de Formule Un ? "
   ]
  },
  {
   "cell_type": "markdown",
   "id": "44c653a9",
   "metadata": {},
   "source": [
    "Librairies : "
   ]
  },
  {
   "cell_type": "code",
   "execution_count": 1,
   "id": "090631b9",
   "metadata": {},
   "outputs": [],
   "source": [
    "import pandas as pd\n",
    "import os\n",
    "import csv\n",
    "import matplotlib.pyplot as plt\n"
   ]
  },
  {
   "cell_type": "markdown",
   "id": "66672588",
   "metadata": {},
   "source": [
    "Chargement des données : "
   ]
  },
  {
   "cell_type": "code",
   "execution_count": 26,
   "id": "29bacd67",
   "metadata": {},
   "outputs": [
    {
     "name": "stdout",
     "output_type": "stream",
     "text": [
      "drivers\n",
      "Index(['driverId', 'driverRef', 'number', 'code', 'forename', 'surname', 'dob',\n",
      "       'nationality', 'url', 'nom_complet'],\n",
      "      dtype='object')\n",
      "construtors\n",
      "Index(['constructorId', 'constructorRef', 'name', 'nationality', 'url'], dtype='object')\n",
      "races\n",
      "Index(['raceId', 'year', 'round', 'circuitId', 'name', 'date', 'time', 'url',\n",
      "       'fp1_date', 'fp1_time', 'fp2_date', 'fp2_time', 'fp3_date', 'fp3_time',\n",
      "       'quali_date', 'quali_time', 'sprint_date', 'sprint_time'],\n",
      "      dtype='object')\n",
      "results\n",
      "Index(['resultId', 'raceId', 'driverId', 'constructorId', 'number', 'grid',\n",
      "       'position', 'positionText', 'positionOrder', 'points', 'laps', 'time',\n",
      "       'milliseconds', 'fastestLap', 'rank', 'fastestLapTime',\n",
      "       'fastestLapSpeed', 'statusId'],\n",
      "      dtype='object')\n",
      "constructor_standings\n",
      "Index(['constructorStandingsId', 'raceId', 'constructorId', 'points',\n",
      "       'position', 'positionText', 'wins'],\n",
      "      dtype='object')\n"
     ]
    },
    {
     "data": {
      "text/plain": [
       "'print(\"qualifying\")\\nprint(qualifying.columns)'"
      ]
     },
     "execution_count": 26,
     "metadata": {},
     "output_type": "execute_result"
    }
   ],
   "source": [
    "drivers = pd.read_csv(os.path.join(\"donnees_formule_un\", \"drivers.csv\")\\\n",
    "    , on_bad_lines='skip')\n",
    "drivers.columns = drivers.columns.str.strip()\n",
    "drivers[\"forename\"] = drivers[\"forename\"].str.replace('\"', '').str.strip()\n",
    "drivers[\"surname\"] = drivers[\"surname\"].str.replace('\"', '').str.strip()\n",
    "drivers[\"nom_complet\"] = drivers[\"forename\"] + \" \" + drivers[\"surname\"]\n",
    "\n",
    "constructors = pd.read_csv(os.path.join(\"donnees_formule_un\", \"constructors.csv\"))\n",
    "constructors.columns = constructors.columns.str.strip()\n",
    "\n",
    "results = pd.read_csv(os.path.join(\"donnees_formule_un\", \"results.csv\"))\n",
    "results.columns = results.columns.str.strip()\n",
    "\n",
    "races = pd.read_csv(os.path.join(\"donnees_formule_un\", \"races.csv\"))\n",
    "races.columns = races.columns.str.strip()\n",
    "constructor_standings = pd.read_csv(os.path.join(\"donnees_formule_un\", \"constructor_standings.csv\"))\n",
    "constructor_standings.columns = constructor_standings.columns.str.strip()\n",
    "\n",
    "\"\"\"qualifying = pd.read_csv(os.path.join(\"donnees_formule_un\", \"qualifying.csv\"))\n",
    "qualifying.columns = qualifying.columns.str.strip()\"\"\"\n",
    "\n",
    "print(\"drivers\")\n",
    "print(drivers.columns)\n",
    "print(\"construtors\")\n",
    "print(constructors.columns)\n",
    "print(\"races\")\n",
    "print(races.columns)\n",
    "print(\"results\")\n",
    "print(results.columns)\n",
    "print(\"constructor_standings\")\n",
    "print(constructor_standings.columns)\n",
    "\"\"\"print(\"qualifying\")\n",
    "print(qualifying.columns)\"\"\""
   ]
  },
  {
   "cell_type": "markdown",
   "id": "848d983b",
   "metadata": {},
   "source": [
    "Table énorme "
   ]
  },
  {
   "cell_type": "code",
   "execution_count": 98,
   "id": "921f5acc",
   "metadata": {},
   "outputs": [
    {
     "name": "stdout",
     "output_type": "stream",
     "text": [
      "Index(['raceId', 'year', 'round', 'circuitId', 'name_x', 'date', 'time_x',\n",
      "       'url_x', 'fp1_date', 'fp1_time', 'fp2_date', 'fp2_time', 'fp3_date',\n",
      "       'fp3_time', 'quali_date', 'quali_time', 'sprint_date', 'sprint_time',\n",
      "       'resultId', 'driverId', 'constructorId', 'number_x', 'grid', 'position',\n",
      "       'positionText', 'positionOrder', 'points', 'laps', 'time_y',\n",
      "       'milliseconds', 'fastestLap', 'rank', 'fastestLapTime',\n",
      "       'fastestLapSpeed', 'statusId', 'constructorRef', 'name_y',\n",
      "       'nationality_x', 'url_y', 'driverRef', 'number_y', 'code', 'forename',\n",
      "       'surname', 'dob', 'nationality_y', 'url', 'nom_complet'],\n",
      "      dtype='object')\n",
      "       raceId  year                            name_x      nom_complet  \\\n",
      "25810    1098  2023   \"Bahrain Grand Prix\"              Max Verstappen   \n",
      "25811    1098  2023   \"Bahrain Grand Prix\"                Sergio Pérez   \n",
      "25812    1098  2023   \"Bahrain Grand Prix\"             Fernando Alonso   \n",
      "25813    1098  2023   \"Bahrain Grand Prix\"                Carlos Sainz   \n",
      "25814    1098  2023   \"Bahrain Grand Prix\"              Lewis Hamilton   \n",
      "\n",
      "                             name_y  positionOrder  grid  \n",
      "25810   \"Red Bull\"                               1     1  \n",
      "25811   \"Red Bull\"                               2     2  \n",
      "25812   \"Aston Martin\"                           3     5  \n",
      "25813   \"Ferrari\"                                4     4  \n",
      "25814   \"Mercedes\"                               5     7  \n"
     ]
    }
   ],
   "source": [
    "table_1 = pd.merge(races, results, on= \"raceId\")\n",
    "table_2 = pd.merge(table_1, constructors, on = \"constructorId\")\n",
    "table = pd.merge(table_2, drivers, on = \"driverId\")\n",
    "\n",
    "\n",
    "print(table.columns)\n",
    "#sélectionner les variables dans la table\n",
    "table = table[['raceId', 'year', 'name_x', 'nom_complet', 'name_y', 'positionOrder', 'grid']]\n",
    "\n",
    "# table triée sur les années 2023 et 2024 :\n",
    "df = table[(table['year'] == 2023) | (table['year'] == 2024)]\n",
    "df = df.drop_duplicates(subset=['raceId', 'nom_complet']) # éviter les doublons\n",
    "print(df.head())\n"
   ]
  },
  {
   "cell_type": "markdown",
   "id": "23418fa4",
   "metadata": {},
   "source": [
    "Info :\n",
    "name_x = nom du circuit \n",
    "name_y = nom de constructeur "
   ]
  },
  {
   "cell_type": "markdown",
   "id": "a4f6c916",
   "metadata": {},
   "source": [
    "Variables utilisées pour la régression logistique "
   ]
  },
  {
   "cell_type": "code",
   "execution_count": 100,
   "id": "a6135670",
   "metadata": {},
   "outputs": [
    {
     "name": "stdout",
     "output_type": "stream",
     "text": [
      "Index(['raceId', 'year', 'name_x', 'nom_complet', 'name_y', 'positionOrder',\n",
      "       'grid', 'position_fin_saison', 'position_y', 'nb_victoire_2_ans',\n",
      "       'nb_podium_2_ans', 'ecurie', 'ecurie_Alfa Romeo', 'ecurie_AlphaTauri',\n",
      "       'ecurie_Alpine F1 Team', 'ecurie_Aston Martin', 'ecurie_Ferrari',\n",
      "       'ecurie_Haas F1 Team', 'ecurie_McLaren', 'ecurie_Mercedes',\n",
      "       'ecurie_RB F1 Team', 'ecurie_Red Bull', 'ecurie_Sauber',\n",
      "       'ecurie_Williams'],\n",
      "      dtype='object')\n",
      "   raceId  year                            name_x      nom_complet  \\\n",
      "0    1098  2023   \"Bahrain Grand Prix\"              Max Verstappen   \n",
      "1    1098  2023   \"Bahrain Grand Prix\"                Sergio Pérez   \n",
      "2    1098  2023   \"Bahrain Grand Prix\"             Fernando Alonso   \n",
      "3    1098  2023   \"Bahrain Grand Prix\"                Carlos Sainz   \n",
      "4    1098  2023   \"Bahrain Grand Prix\"              Lewis Hamilton   \n",
      "\n",
      "         name_y  positionOrder  grid  position_fin_saison  position_y  \\\n",
      "0      Red Bull              1     1                    1           1   \n",
      "1      Red Bull              2     2                    1           1   \n",
      "2  Aston Martin              3     5                    7           7   \n",
      "3       Ferrari              4     4                    2           2   \n",
      "4      Mercedes              5     7                    3           3   \n",
      "\n",
      "   nb_victoire_2_ans  ...  ecurie_Alpine F1 Team ecurie_Aston Martin  \\\n",
      "0               26.0  ...                      0                   0   \n",
      "1                2.0  ...                      0                   0   \n",
      "2                0.0  ...                      0                   1   \n",
      "3                2.0  ...                      0                   0   \n",
      "4                1.0  ...                      0                   0   \n",
      "\n",
      "   ecurie_Ferrari  ecurie_Haas F1 Team  ecurie_McLaren  ecurie_Mercedes  \\\n",
      "0               0                    0               0                0   \n",
      "1               0                    0               0                0   \n",
      "2               0                    0               0                0   \n",
      "3               1                    0               0                0   \n",
      "4               0                    0               0                1   \n",
      "\n",
      "   ecurie_RB F1 Team  ecurie_Red Bull  ecurie_Sauber  ecurie_Williams  \n",
      "0                  0                1              0                0  \n",
      "1                  0                1              0                0  \n",
      "2                  0                0              0                0  \n",
      "3                  0                0              0                0  \n",
      "4                  0                0              0                0  \n",
      "\n",
      "[5 rows x 24 columns]\n"
     ]
    }
   ],
   "source": [
    "# Nombre de victoires par pilote\n",
    "nb_victoire_2_ans = df[df[\"positionOrder\"] == 1].groupby(\"nom_complet\").size()\n",
    "# Ajouter un nom à la Série pour pouvoir la fusionner\n",
    "nb_victoire_2_ans.name = 'nb_victoire_2_ans'\n",
    "# Fusionner avec le DataFrame df\n",
    "if 'nb_victoire_2_ans' in df.columns:\n",
    "    df = df.drop(columns=['nb_victoire_2_ans'])\n",
    "\n",
    "df = df.merge(nb_victoire_2_ans, on = \"nom_complet\", how = \"left\")\n",
    "df[\"nb_victoire_2_ans\"] = df[\"nb_victoire_2_ans\"].fillna(0)\n",
    "\n",
    "\n",
    "# Nombre de podium par pilote\n",
    "nb_podium_2_ans = df[(df[\"positionOrder\"] == 1) | (df[\"positionOrder\"] == 2)\\\n",
    "    | (df[\"positionOrder\"] == 3)].groupby(\"nom_complet\").size()\n",
    "# Ajouter un nom à la Série pour pouvoir la fusionner\n",
    "nb_podium_2_ans.name = 'nb_podium_2_ans'\n",
    "if 'nb_podium_2_ans' in df.columns:\n",
    "    df = df.drop(columns=['nb_podium_2_ans'])\n",
    "# Fusionner avec le DataFrame df\n",
    "df = df.merge(nb_podium_2_ans, on = \"nom_complet\", how = \"left\")\n",
    "# Remplir les NaN avec 0\n",
    "df[\"nb_podium_2_ans\"] = df[\"nb_podium_2_ans\"].fillna(0)\n",
    "\n",
    "\n",
    "# Position au départ de la course\n",
    "# correspond à la variable grid de df\n",
    "\n",
    "\n",
    "# Ecurie actuelle du pilote\n",
    "df['name_y'] = df['name_y'].str.strip('\" ') #pour avoir un nom prore\n",
    "# Supprimer les anciennes colonnes d'ecurie si elles existent déjà\n",
    "df = df.loc[:, ~df.columns.str.startswith('ecurie_')]\n",
    "# Ecurie actuelle du pilote\n",
    "df['ecurie'] = df['name_y'].str.strip()    # très important de STRIP ici aussi !!\n",
    "# One-Hot Encoding\n",
    "ecuries_encoded = pd.get_dummies(df['ecurie'], prefix='ecurie')\n",
    "# Ajouter les colonnes au DataFrame\n",
    "df = pd.concat([df, ecuries_encoded], axis=1)\n",
    "\n",
    "\n",
    "# Convertir tout booléen en int (True → 1, False → 0)\n",
    "df = df.astype({col: int for col in df.select_dtypes(include='bool').columns})\n",
    "\n",
    "# Position actuelle dans le championnat\n",
    "# correspond à  la variable position de la table driver standings\n",
    "\n",
    "# Afficher les colonnes du DataFrame\n",
    "df.columns = df.columns.str.strip()\n",
    "print(df.columns)\n",
    "print(df.head())\n"
   ]
  },
  {
   "cell_type": "code",
   "execution_count": 99,
   "id": "192a4b41",
   "metadata": {},
   "outputs": [
    {
     "name": "stdout",
     "output_type": "stream",
     "text": [
      "Index(['constructorStandingsId', 'raceId', 'constructorId', 'points',\n",
      "       'position', 'positionText', 'wins', 'year', 'round', 'circuitId',\n",
      "       'name', 'date', 'time', 'url', 'fp1_date', 'fp1_time', 'fp2_date',\n",
      "       'fp2_time', 'fp3_date', 'fp3_time', 'quali_date', 'quali_time',\n",
      "       'sprint_date', 'sprint_time'],\n",
      "      dtype='object')\n",
      "Index(['raceId', 'constructorId', 'points', 'position', 'year', 'date',\n",
      "       'constructorRef', 'name', 'nationality', 'url'],\n",
      "      dtype='object')\n",
      "Dates des dernières courses :\n",
      "    year       date\n",
      "0  2022 2022-11-20\n",
      "1  2023 2023-11-26\n",
      "Index(['year', 'name_y', 'position_fin_saison'], dtype='object')\n",
      "   year                        name_y  position_fin_saison\n",
      "0  2023   \"Ferrari\"                                      2\n",
      "1  2023   \"Mercedes\"                                     3\n",
      "2  2023   \"Haas F1 Team\"                                 8\n",
      "3  2023   \"Alfa Romeo\"                                   6\n",
      "4  2023   \"Alpine F1 Team\"                               4\n",
      "Index(['raceId', 'year', 'name_x', 'nom_complet', 'name_y', 'positionOrder',\n",
      "       'grid', 'position_fin_saison', 'position_y'],\n",
      "      dtype='object')\n",
      "   raceId  year                            name_x      nom_complet  \\\n",
      "0    1098  2023   \"Bahrain Grand Prix\"              Max Verstappen   \n",
      "1    1098  2023   \"Bahrain Grand Prix\"                Sergio Pérez   \n",
      "2    1098  2023   \"Bahrain Grand Prix\"             Fernando Alonso   \n",
      "3    1098  2023   \"Bahrain Grand Prix\"                Carlos Sainz   \n",
      "4    1098  2023   \"Bahrain Grand Prix\"              Lewis Hamilton   \n",
      "5    1098  2023   \"Bahrain Grand Prix\"                Lance Stroll   \n",
      "6    1098  2023   \"Bahrain Grand Prix\"              George Russell   \n",
      "7    1098  2023   \"Bahrain Grand Prix\"             Valtteri Bottas   \n",
      "8    1098  2023   \"Bahrain Grand Prix\"                Pierre Gasly   \n",
      "9    1098  2023   \"Bahrain Grand Prix\"             Alexander Albon   \n",
      "\n",
      "                         name_y  positionOrder  grid  position_fin_saison  \\\n",
      "0   \"Red Bull\"                               1     1                    1   \n",
      "1   \"Red Bull\"                               2     2                    1   \n",
      "2   \"Aston Martin\"                           3     5                    7   \n",
      "3   \"Ferrari\"                                4     4                    2   \n",
      "4   \"Mercedes\"                               5     7                    3   \n",
      "5   \"Aston Martin\"                           6     8                    7   \n",
      "6   \"Mercedes\"                               7     6                    3   \n",
      "7   \"Alfa Romeo\"                             8    12                    6   \n",
      "8   \"Alpine F1 Team\"                         9    20                    4   \n",
      "9   \"Williams\"                              10    15                   10   \n",
      "\n",
      "   position_y  \n",
      "0           1  \n",
      "1           1  \n",
      "2           7  \n",
      "3           2  \n",
      "4           3  \n",
      "5           7  \n",
      "6           3  \n",
      "7           6  \n",
      "8           4  \n",
      "9          10  \n"
     ]
    }
   ],
   "source": [
    "fusion = pd.merge(constructor_standings, races, on='raceId')\n",
    "print(fusion.columns)\n",
    "fusion = fusion[['raceId', 'constructorId', 'points', 'position', 'year', 'date']]\n",
    "fusion_now = pd.merge(fusion, constructors, on='constructorId')\n",
    "print(fusion_now.columns)\n",
    "\n",
    "\n",
    "# Assure-toi que la colonne 'date' est bien de type datetime\n",
    "fusion_now['date'] = fusion_now['date'].str.strip().str.replace('\"', '')\n",
    "fusion_now['date'] = pd.to_datetime(fusion_now['date'], format=\"%Y-%m-%d\", errors='coerce')\n",
    "\n",
    "# Filtrer uniquement pour les années 2023 et 2024\n",
    "df_filtre = fusion_now[fusion_now['year'].isin([2022, 2023])].copy()\n",
    "\n",
    "# Trouver la date de la dernière course de chaque année\n",
    "dernieres_dates = df_filtre.groupby('year')['date'].max().reset_index()\n",
    "print(\"Dates des dernières courses :\\n\", dernieres_dates)\n",
    "\n",
    "# Fusionner pour récupérer les raceId correspondants à ces dates\n",
    "courses_finales = pd.merge(df_filtre, dernieres_dates, on=['year', 'date'])\n",
    "\n",
    "# Sélectionner uniquement les colonnes utiles : position du constructeur à la dernière course\n",
    "classement_final = courses_finales[['year', 'constructorId', 'name', 'position']].copy()\n",
    "classement_final = classement_final.rename(columns={'position': 'position_fin_saison'})\n",
    "\n",
    "\n",
    "classement_final = classement_final.rename(columns={'name': 'name_y'})\n",
    "classement_final.drop(columns=['constructorId'], inplace=True)\n",
    "# Décaler l'année pour que le classement de 2022 corresponde à 2023, etc.\n",
    "classement_final['year'] = classement_final['year'] + 1\n",
    "\n",
    "\n",
    "print(classement_final.columns)\n",
    "print(classement_final.head())\n",
    "\n",
    "fusion_2 = fusion_now[['raceId', 'position', 'name' , 'date']]\n",
    "fusion_2 = fusion_2.rename(columns={'name': 'name_y'})\n",
    "# On suppose que chaque ligne correspond à un pilote ou une écurie pour une course\n",
    "# Tu dois avoir une colonne 'raceId', 'constructorId' (ou 'name_y') et 'position'\n",
    "\n",
    "# Trier les données par écurie et date de course\n",
    "fusion_2 = fusion_2.sort_values(by=['date'])\n",
    "\n",
    "# Décaler la position par groupe d’écurie\n",
    "fusion_2['position_prec'] = fusion_2.groupby('name_y')['position'].shift(1)\n",
    "fusion_2.rename(columns={'position_prec': 'position_y'}, inplace=True)\n",
    "\n",
    "fusion_2['position_y'] = fusion_2['position_y'].fillna(99).astype(int)\n",
    "fusion_2.drop(columns=['position'], inplace=True)\n",
    "fusion_2.drop(columns=['date'], inplace=True)\n",
    "\n",
    "\n",
    "df = pd.merge(df, classement_final, on=['year', 'name_y'], how='left')\n",
    "df = pd.merge(df, fusion_2, on=['raceId', 'name_y'], how='left')\n",
    "\n",
    "df['position_fin_saison'] = df['position_fin_saison'].fillna(0).astype(int)\n",
    "print(df.columns)\n",
    "print(df.head(10))\n"
   ]
  },
  {
   "cell_type": "markdown",
   "id": "700545aa",
   "metadata": {},
   "source": [
    "Régression logistique "
   ]
  },
  {
   "cell_type": "code",
   "execution_count": 101,
   "id": "bf84ff44",
   "metadata": {},
   "outputs": [
    {
     "name": "stdout",
     "output_type": "stream",
     "text": [
      "Accuracy du modèle pour la prédiction du podium : 0.90\n"
     ]
    },
    {
     "data": {
      "image/png": "[encoded data removed]",
      "text/plain": [
       "<Figure size 640x480 with 2 Axes>"
      ]
     },
     "metadata": {},
     "output_type": "display_data"
    },
    {
     "name": "stdout",
     "output_type": "stream",
     "text": [
      "Rapport de classification :\n",
      "              precision    recall  f1-score   support\n",
      "\n",
      "  Pas podium       0.94      0.94      0.94       172\n",
      "      Podium       0.68      0.66      0.67        32\n",
      "\n",
      "    accuracy                           0.90       204\n",
      "   macro avg       0.81      0.80      0.80       204\n",
      "weighted avg       0.90      0.90      0.90       204\n",
      "\n",
      "                  feature  coefficient\n",
      "6   ecurie_Alpine F1 Team     0.927092\n",
      "3         nb_podium_2_ans     0.233438\n",
      "10         ecurie_McLaren     0.145519\n",
      "5       ecurie_AlphaTauri    -0.019649\n",
      "12      ecurie_RB F1 Team    -0.041623\n",
      "14          ecurie_Sauber    -0.045479\n",
      "8          ecurie_Ferrari    -0.099315\n",
      "7     ecurie_Aston Martin    -0.108307\n",
      "15        ecurie_Williams    -0.109939\n",
      "4       ecurie_Alfa Romeo    -0.121617\n",
      "2       nb_victoire_2_ans    -0.124776\n",
      "9     ecurie_Haas F1 Team    -0.156359\n",
      "11        ecurie_Mercedes    -0.176753\n",
      "13        ecurie_Red Bull    -0.229574\n",
      "0                    grid    -0.326745\n",
      "1              position_y    -0.360531\n"
     ]
    }
   ],
   "source": [
    "from sklearn.linear_model import LogisticRegression\n",
    "from sklearn.model_selection import train_test_split\n",
    "from sklearn.metrics import accuracy_score\n",
    "from sklearn.metrics import confusion_matrix, classification_report, ConfusionMatrixDisplay\n",
    "\n",
    "# 1. Variable cible : sur le podium ou non\n",
    "df[\"sur_podium\"] = df[\"positionOrder\"].isin([1, 2, 3]).astype(int)\n",
    "\n",
    "# 2. Convertir les booléens en 0/1\n",
    "df = df.astype({col: int for col in df.select_dtypes(include='bool').columns})\n",
    "\n",
    "# 3. Définir les features (X) et la cible (y)\n",
    "colonnes_a_exclure = ['raceId', 'year', 'name_x', 'name_y', 'nom_complet', 'ecurie', 'sur_podium', 'positionOrder', 'position_fin_saison']\n",
    "X = df.drop(columns=colonnes_a_exclure)\n",
    "y = df['sur_podium']\n",
    "# traiter les valeurs manquantes\n",
    "X = X.fillna(0)\n",
    "\n",
    "\n",
    "# 4. Séparation train/test\n",
    "X_train, X_test, y_train, y_test = train_test_split(X, y, test_size=0.3, random_state=42)\n",
    "\n",
    "# 5. Entraîner le modèle\n",
    "model = LogisticRegression(max_iter=1000)\n",
    "model.fit(X_train, y_train)\n",
    "\n",
    "# 6. Prédictions\n",
    "y_pred = model.predict(X_test)\n",
    "\n",
    "# 7. Évaluation\n",
    "accuracy = accuracy_score(y_test, y_pred)\n",
    "print(f\"Accuracy du modèle pour la prédiction du podium : {accuracy:.2f}\")\n",
    "# 1. Matrice de confusion\n",
    "cm = confusion_matrix(y_test, y_pred)\n",
    "disp = ConfusionMatrixDisplay(confusion_matrix=cm, display_labels=[\"Pas podium\", \"Podium\"])\n",
    "disp.plot(cmap=\"Blues\")\n",
    "plt.title(\"Matrice de confusion\")\n",
    "plt.show()\n",
    "\n",
    "# 2. Rapport de classification\n",
    "print(\"Rapport de classification :\")\n",
    "print(classification_report(y_test, y_pred, target_names=[\"Pas podium\", \"Podium\"]))\n",
    "\n",
    "# Poids des variables\n",
    "coef_df = pd.DataFrame({\n",
    "        'feature': X.columns,\n",
    "        'coefficient': model.coef_[0]\n",
    "    }).sort_values(by='coefficient', ascending=False)\n",
    "print(coef_df)\n"
   ]
  },
  {
   "cell_type": "markdown",
   "id": "6d872821",
   "metadata": {},
   "source": [
    "Une accuracy de 0.88 signifie que 88% des observations testées ont été bien classées. "
   ]
  },
  {
   "cell_type": "code",
   "execution_count": 71,
   "id": "d22d635d",
   "metadata": {},
   "outputs": [
    {
     "data": {
      "image/png": "[encoded data removed]",
      "text/plain": [
       "<Figure size 640x480 with 2 Axes>"
      ]
     },
     "metadata": {},
     "output_type": "display_data"
    },
    {
     "name": "stdout",
     "output_type": "stream",
     "text": [
      "Rapport de classification :\n",
      "              precision    recall  f1-score   support\n",
      "\n",
      "  Pas podium       0.94      0.96      0.95       172\n",
      "      Podium       0.75      0.66      0.70        32\n",
      "\n",
      "    accuracy                           0.91       204\n",
      "   macro avg       0.84      0.81      0.82       204\n",
      "weighted avg       0.91      0.91      0.91       204\n",
      "\n"
     ]
    }
   ],
   "source": [
    "from sklearn.metrics import confusion_matrix, classification_report, ConfusionMatrixDisplay\n",
    "\n",
    "# 1. Matrice de confusion\n",
    "cm = confusion_matrix(y_test, y_pred)\n",
    "disp = ConfusionMatrixDisplay(confusion_matrix=cm, display_labels=[\"Pas podium\", \"Podium\"])\n",
    "disp.plot(cmap=\"Blues\")\n",
    "plt.title(\"Matrice de confusion\")\n",
    "plt.show()\n",
    "\n",
    "# 2. Rapport de classification\n",
    "print(\"Rapport de classification :\")\n",
    "print(classification_report(y_test, y_pred, target_names=[\"Pas podium\", \"Podium\"]))\n"
   ]
  },
  {
   "cell_type": "markdown",
   "id": "245b1690",
   "metadata": {},
   "source": [
    "Matrice de confusion : 160 vrais négatifs ; 19 vrais positifs ; 13 faux négatifs ; 12 faux positifs \n",
    "\n",
    "Rapport de classification : racall = taux de faux négatifs, le modèle rate des podium ou des non podium, plus il est faible plus le modèle rate ; precision = plus elle est faible plus le modèle prédit à tord ; F1 score = équilibre de ces deux aspects "
   ]
  },
  {
   "cell_type": "markdown",
   "id": "5cf0a42c",
   "metadata": {},
   "source": [
    "Conclusion : pour l'instant le modèle est déséquilibré, il est très bon pour prédire pas podium mais beaucoup moins pour prédire le podium. \n",
    "\n"
   ]
  },
  {
   "cell_type": "markdown",
   "id": "4a6376fc",
   "metadata": {},
   "source": [
    "Pistes d'amélioration : tester la régression logistique avec class_weight=\"balanced\", ce qui compense automatiquement le déséquilibre entre les classes."
   ]
  },
  {
   "cell_type": "code",
   "execution_count": 72,
   "id": "9fba8c07",
   "metadata": {},
   "outputs": [
    {
     "name": "stdout",
     "output_type": "stream",
     "text": [
      "Accuracy du modèle pour la prédiction du podium : 0.85\n"
     ]
    },
    {
     "data": {
      "image/png": "[encoded data removed]",
      "text/plain": [
       "<Figure size 640x480 with 2 Axes>"
      ]
     },
     "metadata": {},
     "output_type": "display_data"
    },
    {
     "name": "stdout",
     "output_type": "stream",
     "text": [
      "Rapport de classification :\n",
      "              precision    recall  f1-score   support\n",
      "\n",
      "  Pas podium       0.97      0.84      0.90       172\n",
      "      Podium       0.51      0.88      0.64        32\n",
      "\n",
      "    accuracy                           0.85       204\n",
      "   macro avg       0.74      0.86      0.77       204\n",
      "weighted avg       0.90      0.85      0.86       204\n",
      "\n",
      "                  feature  coefficient\n",
      "6   ecurie_Alpine F1 Team     1.685897\n",
      "3         nb_podium_2_ans     0.239560\n",
      "10         ecurie_McLaren     0.113657\n",
      "5       ecurie_AlphaTauri    -0.029269\n",
      "14          ecurie_Sauber    -0.033983\n",
      "11        ecurie_Mercedes    -0.070750\n",
      "12      ecurie_RB F1 Team    -0.087823\n",
      "4       ecurie_Alfa Romeo    -0.090429\n",
      "2       nb_victoire_2_ans    -0.107247\n",
      "15        ecurie_Williams    -0.141512\n",
      "9     ecurie_Haas F1 Team    -0.168123\n",
      "0                    grid    -0.292455\n",
      "8          ecurie_Ferrari    -0.315466\n",
      "7     ecurie_Aston Martin    -0.342288\n",
      "13        ecurie_Red Bull    -0.449701\n",
      "1                position    -0.540157\n"
     ]
    }
   ],
   "source": [
    "\n",
    "from sklearn.linear_model import LogisticRegression\n",
    "from sklearn.model_selection import train_test_split\n",
    "from sklearn.metrics import accuracy_score\n",
    "\n",
    "# 1. Variable cible : sur le podium ou non\n",
    "df[\"sur_podium\"] = df[\"positionOrder\"].isin([1, 2, 3]).astype(int)\n",
    "\n",
    "# 2. Convertir les booléens en 0/1\n",
    "df = df.astype({col: int for col in df.select_dtypes(include='bool').columns})\n",
    "\n",
    "# 3. Définir les features (X) et la cible (y)\n",
    "colonnes_a_exclure = ['raceId', 'year', 'name_x', 'name_y', 'nom_complet', 'ecurie', 'sur_podium', 'positionOrder', 'position_fin_saison']\n",
    "X = df.drop(columns=colonnes_a_exclure)\n",
    "y = df['sur_podium']\n",
    "# traiter les valeurs manquantes\n",
    "X = X.fillna(0)\n",
    "\n",
    "\n",
    "# 4. Séparation train/test\n",
    "X_train, X_test, y_train, y_test = train_test_split(X, y, test_size=0.3, random_state=42)\n",
    "\n",
    "# 5. Entraîner le modèle\n",
    "model = LogisticRegression(max_iter=1000, class_weight=\"balanced\")\n",
    "model.fit(X_train, y_train)\n",
    "\n",
    "# 6. Prédictions\n",
    "y_pred = model.predict(X_test)\n",
    "\n",
    "# 7. Évaluation\n",
    "accuracy = accuracy_score(y_test, y_pred)\n",
    "print(f\"Accuracy du modèle pour la prédiction du podium : {accuracy:.2f}\")\n",
    "\n",
    "from sklearn.metrics import confusion_matrix, classification_report, ConfusionMatrixDisplay\n",
    "\n",
    "\n",
    "# 1. Matrice de confusion\n",
    "cm = confusion_matrix(y_test, y_pred)\n",
    "disp = ConfusionMatrixDisplay(confusion_matrix=cm, display_labels=[\"Pas podium\", \"Podium\"])\n",
    "disp.plot(cmap=\"Blues\")\n",
    "plt.title(\"Matrice de confusion\")\n",
    "plt.show()\n",
    "\n",
    "# 2. Rapport de classification\n",
    "print(\"Rapport de classification :\")\n",
    "print(classification_report(y_test, y_pred, target_names=[\"Pas podium\", \"Podium\"]))\n",
    "\n",
    "# Poids des variables\n",
    "coef_df = pd.DataFrame({\n",
    "        'feature': X.columns,\n",
    "        'coefficient': model.coef_[0]\n",
    "    }).sort_values(by='coefficient', ascending=False)\n",
    "print(coef_df)"
   ]
  },
  {
   "cell_type": "code",
   "execution_count": 103,
   "id": "169c3457",
   "metadata": {},
   "outputs": [
    {
     "name": "stdout",
     "output_type": "stream",
     "text": [
      "Accuracy du modèle pour la prédiction du podium : 0.85\n"
     ]
    },
    {
     "data": {
      "image/png": "[encoded data removed]",
      "text/plain": [
       "<Figure size 640x480 with 2 Axes>"
      ]
     },
     "metadata": {},
     "output_type": "display_data"
    },
    {
     "name": "stdout",
     "output_type": "stream",
     "text": [
      "Rapport de classification :\n",
      "              precision    recall  f1-score   support\n",
      "\n",
      "  Pas podium       0.98      0.84      0.90       203\n",
      "      Podium       0.49      0.89      0.63        36\n",
      "\n",
      "    accuracy                           0.85       239\n",
      "   macro avg       0.73      0.86      0.77       239\n",
      "weighted avg       0.90      0.85      0.86       239\n",
      "\n",
      "17\n",
      "17\n"
     ]
    },
    {
     "ename": "ValueError",
     "evalue": "All arrays must be of the same length",
     "output_type": "error",
     "traceback": [
      "\u001b[31m---------------------------------------------------------------------------\u001b[39m",
      "\u001b[31mValueError\u001b[39m                                Traceback (most recent call last)",
      "\u001b[36mCell\u001b[39m\u001b[36m \u001b[39m\u001b[32mIn[103]\u001b[39m\u001b[32m, line 55\u001b[39m\n\u001b[32m     52\u001b[39m \u001b[38;5;28mprint\u001b[39m(\u001b[38;5;28mlen\u001b[39m(model.coef_[\u001b[32m0\u001b[39m]))\n\u001b[32m     54\u001b[39m \u001b[38;5;66;03m# Poids des variables\u001b[39;00m\n\u001b[32m---> \u001b[39m\u001b[32m55\u001b[39m coef_df = \u001b[43mpd\u001b[49m\u001b[43m.\u001b[49m\u001b[43mDataFrame\u001b[49m\u001b[43m(\u001b[49m\u001b[43m{\u001b[49m\n\u001b[32m     56\u001b[39m \u001b[43m        \u001b[49m\u001b[33;43m'\u001b[39;49m\u001b[33;43mfeature\u001b[39;49m\u001b[33;43m'\u001b[39;49m\u001b[43m:\u001b[49m\u001b[43m \u001b[49m\u001b[43mX\u001b[49m\u001b[43m.\u001b[49m\u001b[43mcolumns\u001b[49m\u001b[43m,\u001b[49m\n\u001b[32m     57\u001b[39m \u001b[43m        \u001b[49m\u001b[33;43m'\u001b[39;49m\u001b[33;43mcoefficient\u001b[39;49m\u001b[33;43m'\u001b[39;49m\u001b[43m:\u001b[49m\u001b[43m \u001b[49m\u001b[43mmodel\u001b[49m\u001b[43m.\u001b[49m\u001b[43mcoef_\u001b[49m\u001b[43m[\u001b[49m\u001b[32;43m0\u001b[39;49m\u001b[43m]\u001b[49m\n\u001b[32m     58\u001b[39m \u001b[43m    \u001b[49m\u001b[43m}\u001b[49m\u001b[43m)\u001b[49m.sort_values(by=\u001b[33m'\u001b[39m\u001b[33mcoefficient\u001b[39m\u001b[33m'\u001b[39m, ascending=\u001b[38;5;28;01mFalse\u001b[39;00m)\n\u001b[32m     59\u001b[39m \u001b[38;5;28mprint\u001b[39m(coef_df)\n",
      "\u001b[36mFile \u001b[39m\u001b[32m~\\AppData\\Local\\Packages\\PythonSoftwareFoundation.Python.3.11_qbz5n2kfra8p0\\LocalCache\\local-packages\\Python311\\site-packages\\pandas\\core\\frame.py:778\u001b[39m, in \u001b[36mDataFrame.__init__\u001b[39m\u001b[34m(self, data, index, columns, dtype, copy)\u001b[39m\n\u001b[32m    772\u001b[39m     mgr = \u001b[38;5;28mself\u001b[39m._init_mgr(\n\u001b[32m    773\u001b[39m         data, axes={\u001b[33m\"\u001b[39m\u001b[33mindex\u001b[39m\u001b[33m\"\u001b[39m: index, \u001b[33m\"\u001b[39m\u001b[33mcolumns\u001b[39m\u001b[33m\"\u001b[39m: columns}, dtype=dtype, copy=copy\n\u001b[32m    774\u001b[39m     )\n\u001b[32m    776\u001b[39m \u001b[38;5;28;01melif\u001b[39;00m \u001b[38;5;28misinstance\u001b[39m(data, \u001b[38;5;28mdict\u001b[39m):\n\u001b[32m    777\u001b[39m     \u001b[38;5;66;03m# GH#38939 de facto copy defaults to False only in non-dict cases\u001b[39;00m\n\u001b[32m--> \u001b[39m\u001b[32m778\u001b[39m     mgr = \u001b[43mdict_to_mgr\u001b[49m\u001b[43m(\u001b[49m\u001b[43mdata\u001b[49m\u001b[43m,\u001b[49m\u001b[43m \u001b[49m\u001b[43mindex\u001b[49m\u001b[43m,\u001b[49m\u001b[43m \u001b[49m\u001b[43mcolumns\u001b[49m\u001b[43m,\u001b[49m\u001b[43m \u001b[49m\u001b[43mdtype\u001b[49m\u001b[43m=\u001b[49m\u001b[43mdtype\u001b[49m\u001b[43m,\u001b[49m\u001b[43m \u001b[49m\u001b[43mcopy\u001b[49m\u001b[43m=\u001b[49m\u001b[43mcopy\u001b[49m\u001b[43m,\u001b[49m\u001b[43m \u001b[49m\u001b[43mtyp\u001b[49m\u001b[43m=\u001b[49m\u001b[43mmanager\u001b[49m\u001b[43m)\u001b[49m\n\u001b[32m    779\u001b[39m \u001b[38;5;28;01melif\u001b[39;00m \u001b[38;5;28misinstance\u001b[39m(data, ma.MaskedArray):\n\u001b[32m    780\u001b[39m     \u001b[38;5;28;01mfrom\u001b[39;00m\u001b[38;5;250m \u001b[39m\u001b[34;01mnumpy\u001b[39;00m\u001b[34;01m.\u001b[39;00m\u001b[34;01mma\u001b[39;00m\u001b[38;5;250m \u001b[39m\u001b[38;5;28;01mimport\u001b[39;00m mrecords\n",
      "\u001b[36mFile \u001b[39m\u001b[32m~\\AppData\\Local\\Packages\\PythonSoftwareFoundation.Python.3.11_qbz5n2kfra8p0\\LocalCache\\local-packages\\Python311\\site-packages\\pandas\\core\\internals\\construction.py:503\u001b[39m, in \u001b[36mdict_to_mgr\u001b[39m\u001b[34m(data, index, columns, dtype, typ, copy)\u001b[39m\n\u001b[32m    499\u001b[39m     \u001b[38;5;28;01melse\u001b[39;00m:\n\u001b[32m    500\u001b[39m         \u001b[38;5;66;03m# dtype check to exclude e.g. range objects, scalars\u001b[39;00m\n\u001b[32m    501\u001b[39m         arrays = [x.copy() \u001b[38;5;28;01mif\u001b[39;00m \u001b[38;5;28mhasattr\u001b[39m(x, \u001b[33m\"\u001b[39m\u001b[33mdtype\u001b[39m\u001b[33m\"\u001b[39m) \u001b[38;5;28;01melse\u001b[39;00m x \u001b[38;5;28;01mfor\u001b[39;00m x \u001b[38;5;129;01min\u001b[39;00m arrays]\n\u001b[32m--> \u001b[39m\u001b[32m503\u001b[39m \u001b[38;5;28;01mreturn\u001b[39;00m \u001b[43marrays_to_mgr\u001b[49m\u001b[43m(\u001b[49m\u001b[43marrays\u001b[49m\u001b[43m,\u001b[49m\u001b[43m \u001b[49m\u001b[43mcolumns\u001b[49m\u001b[43m,\u001b[49m\u001b[43m \u001b[49m\u001b[43mindex\u001b[49m\u001b[43m,\u001b[49m\u001b[43m \u001b[49m\u001b[43mdtype\u001b[49m\u001b[43m=\u001b[49m\u001b[43mdtype\u001b[49m\u001b[43m,\u001b[49m\u001b[43m \u001b[49m\u001b[43mtyp\u001b[49m\u001b[43m=\u001b[49m\u001b[43mtyp\u001b[49m\u001b[43m,\u001b[49m\u001b[43m \u001b[49m\u001b[43mconsolidate\u001b[49m\u001b[43m=\u001b[49m\u001b[43mcopy\u001b[49m\u001b[43m)\u001b[49m\n",
      "\u001b[36mFile \u001b[39m\u001b[32m~\\AppData\\Local\\Packages\\PythonSoftwareFoundation.Python.3.11_qbz5n2kfra8p0\\LocalCache\\local-packages\\Python311\\site-packages\\pandas\\core\\internals\\construction.py:114\u001b[39m, in \u001b[36marrays_to_mgr\u001b[39m\u001b[34m(arrays, columns, index, dtype, verify_integrity, typ, consolidate)\u001b[39m\n\u001b[32m    111\u001b[39m \u001b[38;5;28;01mif\u001b[39;00m verify_integrity:\n\u001b[32m    112\u001b[39m     \u001b[38;5;66;03m# figure out the index, if necessary\u001b[39;00m\n\u001b[32m    113\u001b[39m     \u001b[38;5;28;01mif\u001b[39;00m index \u001b[38;5;129;01mis\u001b[39;00m \u001b[38;5;28;01mNone\u001b[39;00m:\n\u001b[32m--> \u001b[39m\u001b[32m114\u001b[39m         index = \u001b[43m_extract_index\u001b[49m\u001b[43m(\u001b[49m\u001b[43marrays\u001b[49m\u001b[43m)\u001b[49m\n\u001b[32m    115\u001b[39m     \u001b[38;5;28;01melse\u001b[39;00m:\n\u001b[32m    116\u001b[39m         index = ensure_index(index)\n",
      "\u001b[36mFile \u001b[39m\u001b[32m~\\AppData\\Local\\Packages\\PythonSoftwareFoundation.Python.3.11_qbz5n2kfra8p0\\LocalCache\\local-packages\\Python311\\site-packages\\pandas\\core\\internals\\construction.py:677\u001b[39m, in \u001b[36m_extract_index\u001b[39m\u001b[34m(data)\u001b[39m\n\u001b[32m    675\u001b[39m lengths = \u001b[38;5;28mlist\u001b[39m(\u001b[38;5;28mset\u001b[39m(raw_lengths))\n\u001b[32m    676\u001b[39m \u001b[38;5;28;01mif\u001b[39;00m \u001b[38;5;28mlen\u001b[39m(lengths) > \u001b[32m1\u001b[39m:\n\u001b[32m--> \u001b[39m\u001b[32m677\u001b[39m     \u001b[38;5;28;01mraise\u001b[39;00m \u001b[38;5;167;01mValueError\u001b[39;00m(\u001b[33m\"\u001b[39m\u001b[33mAll arrays must be of the same length\u001b[39m\u001b[33m\"\u001b[39m)\n\u001b[32m    679\u001b[39m \u001b[38;5;28;01mif\u001b[39;00m have_dicts:\n\u001b[32m    680\u001b[39m     \u001b[38;5;28;01mraise\u001b[39;00m \u001b[38;5;167;01mValueError\u001b[39;00m(\n\u001b[32m    681\u001b[39m         \u001b[33m\"\u001b[39m\u001b[33mMixing dicts with non-Series may lead to ambiguous ordering.\u001b[39m\u001b[33m\"\u001b[39m\n\u001b[32m    682\u001b[39m     )\n",
      "\u001b[31mValueError\u001b[39m: All arrays must be of the same length"
     ]
    }
   ],
   "source": [
    "from sklearn.linear_model import LogisticRegression\n",
    "from sklearn.model_selection import train_test_split\n",
    "from sklearn.metrics import accuracy_score\n",
    "\n",
    "# 1. Variable cible : sur le podium ou non\n",
    "df[\"sur_podium\"] = df[\"positionOrder\"].isin([1, 2, 3]).astype(int)\n",
    "\n",
    "# 2. Convertir les booléens en 0/1\n",
    "df = df.astype({col: int for col in df.select_dtypes(include='bool').columns})\n",
    "\n",
    "# 3. Définir les features (X) et la cible (y)\n",
    "colonnes_a_exclure = ['raceId', 'year', 'name_x', 'name_y', 'nom_complet', 'ecurie', 'sur_podium', 'positionOrder']\n",
    "# 4. Séparer les jeux d'entraînement et de test\n",
    "df_train = df[df['year'] == 2023].copy()\n",
    "df_test = df[df['year'] == 2024].copy()\n",
    "\n",
    "# 5. Créer X et y\n",
    "X_train = df_train.drop(columns=colonnes_a_exclure).fillna(0)\n",
    "y_train = df_train['sur_podium']\n",
    "\n",
    "X_test = df_test.drop(columns=colonnes_a_exclure).fillna(0)\n",
    "y_test = df_test['sur_podium']\n",
    "\n",
    "# Aligner les colonnes\n",
    "X_test = X_test.reindex(columns=X_train.columns, fill_value=0)\n",
    "\n",
    "# 5. Entraîner le modèle\n",
    "model = LogisticRegression(max_iter=1000, class_weight=\"balanced\")\n",
    "model.fit(X_train, y_train)\n",
    "\n",
    "# 6. Prédictions\n",
    "y_pred = model.predict(X_test)\n",
    "\n",
    "# 7. Évaluation\n",
    "accuracy = accuracy_score(y_test, y_pred)\n",
    "print(f\"Accuracy du modèle pour la prédiction du podium : {accuracy:.2f}\")\n",
    "\n",
    "from sklearn.metrics import confusion_matrix, classification_report, ConfusionMatrixDisplay\n",
    "\n",
    "\n",
    "# 1. Matrice de confusion\n",
    "cm = confusion_matrix(y_test, y_pred)\n",
    "disp = ConfusionMatrixDisplay(confusion_matrix=cm, display_labels=[\"Pas podium\", \"Podium\"])\n",
    "disp.plot(cmap=\"Blues\")\n",
    "plt.title(\"Matrice de confusion\")\n",
    "plt.show()\n",
    "\n",
    "# 2. Rapport de classification\n",
    "print(\"Rapport de classification :\")\n",
    "print(classification_report(y_test, y_pred, target_names=[\"Pas podium\", \"Podium\"]))\n",
    "print(len(X_train.columns))\n",
    "print(len(model.coef_[0]))\n",
    "\n",
    "# Poids des variables\n",
    "coef_df = pd.DataFrame({\n",
    "        'feature': X.columns,\n",
    "        'coefficient': model.coef_[0]\n",
    "    }).sort_values(by='coefficient', ascending=False)\n",
    "print(coef_df)"
   ]
  }
 ],
 "metadata": {
  "kernelspec": {
   "display_name": "Python 3",
   "language": "python",
   "name": "python3"
  },
  "language_info": {
   "codemirror_mode": {
    "name": "ipython",
    "version": 3
   },
   "file_extension": ".py",
   "mimetype": "text/x-python",
   "name": "python",
   "nbconvert_exporter": "python",
   "pygments_lexer": "ipython3",
   "version": "3.11.9"
  }
 },
 "nbformat": 4,
 "nbformat_minor": 5
}
