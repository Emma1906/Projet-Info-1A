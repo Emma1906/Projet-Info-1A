{
 "cells": [
  {
   "cell_type": "markdown",
   "id": "037f6f3b",
   "metadata": {},
   "source": [
    "Questions Formule Un "
   ]
  },
  {
   "cell_type": "code",
   "execution_count": 51,
   "id": "cf34b1b9",
   "metadata": {},
   "outputs": [],
   "source": [
    "# Librairies\n",
    "import pandas as pd\n",
    "import os\n",
    "import csv\n",
    "from datetime import datetime"
   ]
  },
  {
   "cell_type": "code",
   "execution_count": 66,
   "id": "c5261396",
   "metadata": {},
   "outputs": [],
   "source": [
    "# Chargement des tables utiles\n",
    "laps = pd.read_csv(os.path.join(\"donnees_formule_un\", \"lap_times.csv\"))\n",
    "laps.columns = laps.columns.str.strip()\n",
    "\n",
    "races = pd.read_csv(os.path.join(\"donnees_formule_un\", \"races.csv\"))\n",
    "races.columns = races.columns.str.strip()\n",
    "\n",
    "drivers = pd.read_csv(os.path.join(\"donnees_formule_un\", \"drivers.csv\")\\\n",
    "    , on_bad_lines='skip')\n",
    "drivers.columns = drivers.columns.str.strip()\n",
    "drivers[\"forename\"] = drivers[\"forename\"].str.replace('\"', '').str.strip()\n",
    "drivers[\"surname\"] = drivers[\"surname\"].str.replace('\"', '').str.strip()\n",
    "drivers[\"nom_complet\"] = drivers[\"forename\"] + \" \" + drivers[\"surname\"]\n",
    "\n",
    "results = pd.read_csv(os.path.join(\"donnees_formule_un\", \"results.csv\"))\n",
    "results.columns = results.columns.str.strip()\n",
    "\n",
    "pit = pd.read_csv(os.path.join(\"donnees_formule_un\", \"pit_stops.csv\"))\n",
    "pit.columns = pit.columns.str.strip()\n",
    "\n",
    "circuits = pd.read_csv(os.path.join(\"donnees_formule_un\", \"races.csv\"))\n",
    "circuits.columns = circuits.columns.str.strip()"
   ]
  },
  {
   "cell_type": "markdown",
   "id": "ce287f10",
   "metadata": {},
   "source": [
    "Question 1 : Quels sont les pilotes qui ont gagné au moins 30 courses ? "
   ]
  },
  {
   "cell_type": "code",
   "execution_count": null,
   "id": "39f90ba5",
   "metadata": {},
   "outputs": [],
   "source": []
  },
  {
   "cell_type": "markdown",
   "id": "df2ea5ae",
   "metadata": {},
   "source": [
    "Question 2 : Quel est le classement des pilotes à l'issue de la saison 2023 ? "
   ]
  },
  {
   "cell_type": "code",
   "execution_count": null,
   "id": "82f9162f",
   "metadata": {},
   "outputs": [],
   "source": []
  },
  {
   "cell_type": "markdown",
   "id": "b0969612",
   "metadata": {},
   "source": [
    "Question 3 : "
   ]
  },
  {
   "cell_type": "code",
   "execution_count": null,
   "id": "b2786f8c",
   "metadata": {},
   "outputs": [],
   "source": []
  },
  {
   "cell_type": "markdown",
   "id": "f2e03431",
   "metadata": {},
   "source": [
    "Question 4 :  Quels sont les meilleurs temps d'un tour de circuit (best lap time) pour chaque circuit, en 2023 ?"
   ]
  },
  {
   "cell_type": "code",
   "execution_count": null,
   "id": "13e99163",
   "metadata": {},
   "outputs": [
    {
     "name": "stdout",
     "output_type": "stream",
     "text": [
      "\n",
      "Meilleur temps d'un tour par course en 2023 :\n",
      "                                    name  milliseconds\n",
      "538121   \"Bahrain Grand Prix\"                    93996\n",
      "539176   \"Saudi Arabian Grand Prix\"              91906\n",
      "540118   \"Australian Grand Prix\"                 80235\n",
      "541113   \"Azerbaijan Grand Prix\"                103370\n",
      "542074   \"Miami Grand Prix\"                      89708\n",
      "543212   \"Monaco Grand Prix\"                     75650\n",
      "544725   \"Spanish Grand Prix\"                    76330\n",
      "546037   \"Canadian Grand Prix\"                   74481\n",
      "547352   \"Austrian Grand Prix\"                   67012\n",
      "548705   \"British Grand Prix\"                    90275\n",
      "549675   \"Hungarian Grand Prix\"                  80504\n",
      "550927   \"Belgian Grand Prix\"                   107305\n",
      "551742   \"Dutch Grand Prix\"                      73837\n",
      "553083   \"Italian Grand Prix\"                    85072\n",
      "554038   \"Singapore Grand Prix\"                  95867\n",
      "555122   \"Japanese Grand Prix\"                   94183\n",
      "556002   \"Qatar Grand Prix\"                      84319\n",
      "557007   \"United States Grand Prix\"              98139\n",
      "558021   \"Mexico City Grand Prix\"                81334\n",
      "559301   \"São Paulo Grand Prix\"                  72486\n",
      "560407   \"Las Vegas Grand Prix\"                  95490\n",
      "561350   \"Abu Dhabi Grand Prix\"                  86993\n"
     ]
    }
   ],
   "source": [
    "# Fusion des tables\n",
    "fusion = pd.merge(laps, races, on='raceId')\n",
    "fusion.columns = fusion.columns.str.strip()\n",
    "# Extraire les années des courses\n",
    "annees_courses = fusion[['year', 'raceId', 'name']].drop_duplicates()\n",
    "# Extraire le temps le plus rapide\n",
    "meilleur_temps_tour_par_course =\\\n",
    "    fusion.groupby(['raceId', 'year'])['milliseconds'].min().reset_index()\n",
    "# Fusionner à nouveau pour inclure la colonne 'name' (nom de la course)\n",
    "meilleur_temps_tour_par_course =\\\n",
    "    pd.merge(meilleur_temps_tour_par_course, fusion[['raceId', 'name']], on='raceId',\n",
    "             how='left').drop_duplicates()\n",
    "# Filtrer sur l'année 2023\n",
    "meilleur_temps_tour_par_course_2023 =\\\n",
    "    meilleur_temps_tour_par_course[meilleur_temps_tour_par_course['year'] == 2023]\n",
    "# Afficher le temps le plus rapide\n",
    "print(\"\\nMeilleur temps d'un tour par course en 2023 :\")\n",
    "print(f\"{meilleur_temps_tour_par_course_2023[['name', 'milliseconds']]}\")\n"
   ]
  },
  {
   "cell_type": "markdown",
   "id": "8acf9811",
   "metadata": {},
   "source": [
    "Question 4 en python pur : "
   ]
  },
  {
   "cell_type": "code",
   "execution_count": null,
   "id": "f49ad87c",
   "metadata": {},
   "outputs": [],
   "source": [
    "# Lecture et stockage des données\n",
    "races_dict = {}\n",
    "race_ids_2023 = set()\n",
    "\n",
    "with open(os.path.join(\"donnees_formule_un\", \"races.csv\"), 'r', encoding='utf-8') as races_file:\n",
    "    reader = csv.reader(races_file)\n",
    "    header_races = next(reader)\n",
    "    for row in reader:\n",
    "        try:\n",
    "            raceId = row[0].strip()\n",
    "            year = int(row[1].strip())\n",
    "            if year == 2023:\n",
    "                races_dict[raceId] = row\n",
    "                race_ids_2023.add(raceId)\n",
    "        except (IndexError, ValueError):\n",
    "            continue\n",
    "\n",
    "# Fusionner les temps et les courses pour l'année 2023\n",
    "with open(os.path.join(\"donnees_formule_un\", \"lap_times.csv\"), 'r', encoding='utf-8') as laps_file:\n",
    "    reader = csv.reader(laps_file)\n",
    "    header_laps = next(reader)\n",
    "\n",
    "    with open(\"fusion_2023.csv\", 'w', newline='', encoding='utf-8') as output_file:\n",
    "        writer = csv.writer(output_file)\n",
    "        writer.writerow(header_laps + header_races)\n",
    "        for row in reader:\n",
    "            try:\n",
    "                raceId = row[0].strip()\n",
    "                if raceId in race_ids_2023:\n",
    "                    ligne_fusionnee = row + races_dict[raceId]\n",
    "                    writer.writerow(ligne_fusionnee)\n",
    "            except IndexError:\n",
    "                continue\n",
    "\n",
    "# Lire et afficher les meilleurs temps par courses\n",
    "meilleurs_temps = {}\n",
    "with open(\"fusion_2023.csv\", 'r', encoding='utf-8') as fusion_file:\n",
    "    reader = csv.reader(fusion_file)\n",
    "    header = next(reader)\n",
    "    for i, row in enumerate(reader):\n",
    "        try:\n",
    "            nom_course = row[10].strip()\n",
    "            temps_ms = int(row[5].strip())\n",
    "            if nom_course not in meilleurs_temps or temps_ms < meilleurs_temps[nom_course]:\n",
    "                meilleurs_temps[nom_course] = temps_ms\n",
    "        except (IndexError, ValueError):\n",
    "            continue\n",
    "\n",
    "\n",
    "print(\"Meilleurs temps par course en 2023 :\\n\")\n",
    "for nom, temps in meilleurs_temps.items():\n",
    "    print(f\"{nom} : {temps} ms\")"
   ]
  },
  {
   "cell_type": "markdown",
   "id": "93bafb7e",
   "metadata": {},
   "source": [
    "Question 5 : Quel est le nombre de meilleur temps (best lap time) par pilote, en 2023 ? "
   ]
  },
  {
   "cell_type": "code",
   "execution_count": null,
   "id": "ace5dcd7",
   "metadata": {},
   "outputs": [
    {
     "name": "stdout",
     "output_type": "stream",
     "text": [
      "\n",
      "Nombre de meilleurs temps par pilote en 2023 :\n",
      "Max Verstappen réalise 9 meilleurs temps en 2023\n",
      "Lewis Hamilton réalise 4 meilleurs temps en 2023\n",
      "Oscar Piastri réalise 2 meilleurs temps en 2023\n",
      "Sergio Pérez réalise 2 meilleurs temps en 2023\n",
      "Fernando Alonso réalise 1 meilleurs temps en 2023\n",
      "George Russell réalise 1 meilleurs temps en 2023\n",
      "Guanyu Zhou réalise 1 meilleurs temps en 2023\n",
      "Lando Norris réalise 1 meilleurs temps en 2023\n",
      "Yuki Tsunoda réalise 1 meilleurs temps en 2023\n"
     ]
    }
   ],
   "source": [
    "# Fusion des tables\n",
    "fusion= pd.merge(laps, races, on='raceId')\n",
    "fusion.columns = fusion.columns.str.strip()\n",
    "fusionnow = pd.merge(fusion, drivers[['driverId', 'nom_complet']], on='driverId')\n",
    "\n",
    "# Extraire les meilleurs temps par course\n",
    "meilleur_temps_tour_par_course = (\n",
    "    fusionnow.loc[fusionnow.groupby(['raceId', 'year'])['milliseconds'].idxmin()]\n",
    ")\n",
    "\n",
    "# Filtrer sur l'année 2023\n",
    "meilleur_temps_tour_par_course_2023 = meilleur_temps_tour_par_course[\n",
    "    meilleur_temps_tour_par_course['year'] == 2023\n",
    "]\n",
    "# regroupe par pilote\n",
    "meilleur_temps_par_pilote = (\n",
    "    meilleur_temps_tour_par_course_2023.groupby('nom_complet')\n",
    "    .size()\n",
    "    .reset_index(name='Nombre de meilleurs temps')\n",
    "    .sort_values(by='Nombre de meilleurs temps', ascending=False)\n",
    ")\n",
    "\n",
    "print(\"\\nNombre de meilleurs temps par pilote en 2023 :\")\n",
    "for index, row in meilleur_temps_par_pilote.iterrows():\n",
    "    print(f\"{row['nom_complet']} réalise {row['Nombre de meilleurs temps']} meilleurs temps en 2023\")\n"
   ]
  },
  {
   "cell_type": "markdown",
   "id": "b65a51d4",
   "metadata": {},
   "source": [
    "Question 6 : Quel pilote a remporté le plus de fois le circuit de Spa-Francorchamps depuis 1950 ? "
   ]
  },
  {
   "cell_type": "code",
   "execution_count": 46,
   "id": "40adcbf9",
   "metadata": {},
   "outputs": [
    {
     "name": "stdout",
     "output_type": "stream",
     "text": [
      "Le pilote qui a le plus grand nombre de victoires sur le circuit de Spa-francorchamps est Michael Schumacher avec 6 victoires, suivi par Ayrton Senna avec 5 victoires.\n"
     ]
    }
   ],
   "source": [
    "# Fusion des tables\n",
    "fusion = pd.merge(results, races, on='raceId')\n",
    "spa_gagnant = pd.merge(drivers, fusion, on='driverId')\n",
    "\n",
    "# Filtrer la table\n",
    "spa_gagnant = spa_gagnant[spa_gagnant['circuitId'] == 13] # Garder le circuit Spa-Francorchamps\n",
    "spa_gagnant = spa_gagnant[spa_gagnant['positionOrder'] == 1] # Garder les gagnants\n",
    "\n",
    "spa_gagnant = (\n",
    "    spa_gagnant.groupby('nom_complet') # Regrouper par pilote\n",
    "    .size()\n",
    "    .reset_index(name=\"Nombre de victoires\")  # Renommer la colonne de comptage\n",
    "    .sort_values(by=\"Nombre de victoires\", ascending=False)  # Trier par nombre de victoires décroissant\n",
    ")\n",
    "\n",
    "top2 = spa_gagnant.head(2)\n",
    "num_1 = top2.iloc[0]\n",
    "num_2 = top2.iloc[1]\n",
    "\n",
    "print(f\"Le pilote qui a le plus grand nombre de victoires sur le circuit de \\\n",
    "Spa-francorchamps est {num_1['nom_complet']} avec {num_1['Nombre de victoires']} \\\n",
    "victoires, suivi par {num_2['nom_complet']} \\\n",
    "avec {num_2['Nombre de victoires']} victoires.\")"
   ]
  },
  {
   "cell_type": "markdown",
   "id": "a66997c3",
   "metadata": {},
   "source": [
    "Question 7 : "
   ]
  },
  {
   "cell_type": "code",
   "execution_count": null,
   "id": "874ff3e4",
   "metadata": {},
   "outputs": [],
   "source": []
  },
  {
   "cell_type": "markdown",
   "id": "7d81f975",
   "metadata": {},
   "source": [
    "Question 8 : Quel est le temps moyen des pit stop en fonction des années ? \n",
    "(Sacahant qu'on ne dispose pas des données avant 2011)"
   ]
  },
  {
   "cell_type": "code",
   "execution_count": null,
   "id": "9cf2a84c",
   "metadata": {},
   "outputs": [],
   "source": [
    "\n",
    "# Fusion des tables\n",
    "fusion = pd.merge(races, pit, on='raceId')\n",
    "fusion.columns = fusion.columns.str.strip()\n",
    "\n",
    "pit_2023 = fusion[fusion['year'] == 2023]\n",
    "pit_2020 = fusion[fusion['year'] == 2020]\n",
    "pit_2016 = fusion[fusion['year'] == 2016]\n",
    "pit_2013 = fusion[fusion['year'] == 2013]\n",
    "\n",
    "\n",
    "# Filtre pour retirer les temps abérrants, valeurs extrêmes\n",
    "def filtrer_pit_stops(df):\n",
    "    q1 = df['milliseconds'].quantile(0.01)\n",
    "    q99 = df['milliseconds'].quantile(0.99)\n",
    "    limite_superieure = min(q99, 30000)  # max 30 sec\n",
    "    return df[(df['milliseconds'] >= q1) & (df['milliseconds'] <= limite_superieure)]\n",
    "\n",
    "\n",
    "pit_2023_filtre = filtrer_pit_stops(pit_2023)\n",
    "pit_2020_filtre = filtrer_pit_stops(pit_2020)\n",
    "pit_2016_filtre = filtrer_pit_stops(pit_2016)\n",
    "pit_2013_filtre = filtrer_pit_stops(pit_2013)\n",
    "\n",
    "# Calcul des moyennes filtrées\n",
    "moy_2023_filtre = pit_2023_filtre['milliseconds'].mean()\n",
    "moy_2020_filtre = pit_2020_filtre['milliseconds'].mean()\n",
    "moy_2016_filtre = pit_2016_filtre['milliseconds'].mean()\n",
    "moy_2013_filtre = pit_2013_filtre['milliseconds'].mean()\n",
    "\n",
    "print(f\"Le temps moyen (filtré) des pit stops en 2023 est de {moy_2023_filtre:.0f} ms.\")\n",
    "print(f\"Il était de {moy_2020_filtre:.0f} ms en 2020, \\\n",
    "de {moy_2016_filtre:.0f} ms en 2016 et de {moy_2013_filtre:.0f} ms en 2013.\")\n"
   ]
  },
  {
   "cell_type": "markdown",
   "id": "051d55ae",
   "metadata": {},
   "source": [
    "Question 9 : Quel circuit a été le plus de fois concouru, depuis 1950 ?"
   ]
  },
  {
   "cell_type": "code",
   "execution_count": 75,
   "id": "9077482a",
   "metadata": {},
   "outputs": [
    {
     "name": "stdout",
     "output_type": "stream",
     "text": [
      "Les circuits ayant été le plus de fois courus depuis 1950 sont le British Grand Prix et l'Italian Grand Prix courus 75 fois, suivi par le Monaco Grand Prix couru 70 fois.\n"
     ]
    }
   ],
   "source": [
    "# Fusion des tables\n",
    "fusion = pd.merge(races, circuits, on='raceId')\n",
    "fusion[\"name_x\"] = fusion[\"name_x\"].str.replace('\"', '').str.strip()\n",
    "\n",
    "# On regroupe par circuit et on compte le nombre de fois où il a était concurru\n",
    "nb_fois_circuit = (\n",
    "    fusion.groupby('name_x')\n",
    "    .size()\n",
    "    .reset_index(name=\"Nombre de fois où le circuit a été concurru\")\n",
    "    .sort_values(by=\"Nombre de fois où le circuit a été concurru\", ascending=False)\n",
    ")\n",
    "\n",
    "top3 = nb_fois_circuit.head(3)\n",
    "num_1 = top3.iloc[0]\n",
    "num_2 = top3.iloc[1]\n",
    "num_3 = top3.iloc[2]\n",
    "\n",
    "print(f\"Les circuits ayant été le plus de fois courus depuis 1950 sont le \\\n",
    "{num_1['name_x']} et l'{num_2['name_x']} courus \\\n",
    "{num_1['Nombre de fois où le circuit a été concurru']} fois, \\\n",
    "suivi par le {num_3['name_x']} \\\n",
    "couru {num_3['Nombre de fois où le circuit a été concurru']} fois.\")"
   ]
  },
  {
   "cell_type": "markdown",
   "id": "2add8d88",
   "metadata": {},
   "source": [
    "Question 9 en python pur "
   ]
  },
  {
   "cell_type": "code",
   "execution_count": null,
   "id": "55b75ebb",
   "metadata": {},
   "outputs": [],
   "source": []
  },
  {
   "cell_type": "markdown",
   "id": "2024447f",
   "metadata": {},
   "source": [
    "Question 10 : "
   ]
  },
  {
   "cell_type": "code",
   "execution_count": null,
   "id": "11bf25e6",
   "metadata": {},
   "outputs": [],
   "source": []
  },
  {
   "cell_type": "markdown",
   "id": "516ef0fe",
   "metadata": {},
   "source": [
    "Question 11 : Quel est le nombre de victoires par nation, entre 1950 et 2024 ?"
   ]
  },
  {
   "cell_type": "code",
   "execution_count": 48,
   "id": "a8237f59",
   "metadata": {},
   "outputs": [
    {
     "name": "stdout",
     "output_type": "stream",
     "text": [
      "             nationality  Nombre de victoires par nation\n",
      "6    \"British\"                                       312\n",
      "12   \"German\"                                        179\n",
      "5    \"Brazilian\"                                     101\n",
      "11   \"French\"                                         81\n",
      "9    \"Dutch\"                                          61\n",
      "10   \"Finnish\"                                        57\n",
      "2    \"Australian\"                                     43\n",
      "13   \"Italian\"                                        43\n",
      "3    \"Austrian\"                                       41\n",
      "1    \"Argentine\"                                      38\n",
      "19   \"Spanish\"                                        35\n",
      "0    \"American\"                                       33\n",
      "7    \"Canadian\"                                       17\n",
      "16   \"New Zealander\"                                  12\n",
      "20   \"Swedish\"                                        12\n",
      "4    \"Belgian\"                                        11\n",
      "18   \"South African\"                                  10\n",
      "14   \"Mexican\"                                         8\n",
      "8    \"Colombian\"                                       7\n",
      "21   \"Swiss\"                                           7\n",
      "15   \"Monegasque\"                                      6\n",
      "17   \"Polish\"                                          1\n",
      "22   \"Venezuelan\"                                      1\n"
     ]
    }
   ],
   "source": [
    "# Fusion des tables\n",
    "fusion = pd.merge(drivers, results, on=\"driverId\")\n",
    "\n",
    "victoire = fusion[fusion['positionOrder'] == 1]     # Garder les victoires\n",
    "\n",
    "victoire_nation = (\n",
    "    victoire.groupby('nationality')   # Regrouper par nation\n",
    "    .size()\n",
    "    .reset_index(name=\"Nombre de victoires par nation\")\n",
    "    .sort_values(by=\"Nombre de victoires par nation\", ascending=False)\n",
    ")\n",
    "\n",
    "print(victoire_nation)\n"
   ]
  },
  {
   "cell_type": "markdown",
   "id": "fc0e8c0b",
   "metadata": {},
   "source": [
    "Question 12 : Quel est l'âge moyen des pilotes en fonction des années ? "
   ]
  },
  {
   "cell_type": "code",
   "execution_count": null,
   "id": "5f34f228",
   "metadata": {},
   "outputs": [],
   "source": [
    "# Fusion des tables\n",
    "fusion_1 = pd.merge(drivers, results, on='driverId')\n",
    "fusion_2 = pd.merge(fusion_1, races, on='raceId')\n",
    "\n",
    "drivers_unique = fusion_2.drop_duplicates(subset=[\"driverId\"]) # Vérifier les doublons\n",
    "\n",
    "# Filtrer sur l'année 2023\n",
    "driver_unique_2023 = drivers_unique[drivers_unique['year'] == 2023].copy()\n",
    "driver_unique_2023.columns = driver_unique_2023.columns.str.strip()\n",
    "\n",
    "# Convertir la date de naissance en format datetime pour calculer l'âge\n",
    "driver_unique_2023['dob'] = driver_unique_2023['dob'].str.strip().str.replace('\"', '')\n",
    "driver_unique_2023['dob'] = pd.to_datetime(driver_unique_2023['dob'], format='%Y-%m-%d', errors='coerce')\n",
    "driver_unique_2023.loc[:, 'dob'] = pd.to_datetime(driver_unique_2023['dob'])\n",
    "driver_unique_2023[driver_unique_2023['dob'].isna()]\n",
    "\n",
    "aujourdhui = datetime.now()\n",
    "driver_unique_2023.loc[:, 'age'] = driver_unique_2023['dob'].apply(\n",
    "    lambda x: aujourdhui.year - x.year - ((aujourdhui.month, aujourdhui.day) < (x.month, x.day))\n",
    ")\n",
    "\n",
    "age_moyen = driver_unique_2023['age'].mean()   # Calcul de l'âge moyen\n",
    "print(f\"L'âge moyen des pilotes en 2023 est de {age_moyen:.2f} ans\")\n",
    "\n",
    "\n",
    "# Idem pour l'année 2000 :\n",
    "driver_unique_2000 = drivers_unique[drivers_unique['year'] == 2000].copy()\n",
    "driver_unique_2000.columns = driver_unique_2000.columns.str.strip()\n",
    "driver_unique_2000['dob'] = driver_unique_2000['dob'].str.strip().str.replace('\"', '')\n",
    "driver_unique_2000['dob'] = pd.to_datetime(driver_unique_2000['dob'], format='%Y-%m-%d', errors='coerce')\n",
    "driver_unique_2000.loc[:, 'dob'] = pd.to_datetime(driver_unique_2000['dob'])\n",
    "driver_unique_2000[driver_unique_2000['dob'].isna()]\n",
    "aujourdhui_2000 = datetime(2000, 1, 1)  # Date du 1er janvier 2000\n",
    "driver_unique_2000.loc[:, 'age'] = driver_unique_2000['dob'].apply(\n",
    "    lambda x: aujourdhui_2000.year - x.year - ((aujourdhui.month, aujourdhui.day) < (x.month, x.day))\n",
    ")\n",
    "age_moyen = driver_unique_2000['age'].mean()\n",
    "print(f\"L'âge moyen des pilotes en 2000 est de {age_moyen:.2f} ans\")\n",
    "\n",
    "\n",
    "# Idem pour l'année 1980 :\n",
    "driver_unique_1980 = drivers_unique[drivers_unique['year'] == 1980].copy()\n",
    "driver_unique_1980.columns = driver_unique_1980.columns.str.strip()\n",
    "driver_unique_1980['dob'] = driver_unique_1980['dob'].str.strip().str.replace('\"', '')\n",
    "driver_unique_1980['dob'] = pd.to_datetime(driver_unique_1980['dob'], format='%Y-%m-%d', errors='coerce')\n",
    "driver_unique_1980.loc[:, 'dob'] = pd.to_datetime(driver_unique_1980['dob'])\n",
    "driver_unique_1980[driver_unique_1980['dob'].isna()]\n",
    "aujourdhui_1980 = datetime(1980, 1, 1)  # Date du 1er janvier 1980\n",
    "driver_unique_1980.loc[:, 'age'] = driver_unique_1980['dob'].apply(\n",
    "    lambda x: aujourdhui_1980.year - x.year - ((aujourdhui.month, aujourdhui.day) < (x.month, x.day))\n",
    ")\n",
    "age_moyen = driver_unique_1980['age'].mean()\n",
    "print(f\"L'âge moyen des pilotes en 1980 est de {age_moyen:.2f} ans\")\n",
    "\n",
    "# Idem pour l'année 1950 :\n",
    "driver_unique_1950 = drivers_unique[drivers_unique['year'] == 1950].copy()\n",
    "driver_unique_1950.columns = driver_unique_1950.columns.str.strip()\n",
    "driver_unique_1950['dob'] = driver_unique_1950['dob'].str.strip().str.replace('\"', '')\n",
    "driver_unique_1950['dob'] = pd.to_datetime(driver_unique_1950['dob'], format='%Y-%m-%d', errors='coerce')\n",
    "driver_unique_1950.loc[:, 'dob'] = pd.to_datetime(driver_unique_1950['dob'])\n",
    "driver_unique_1950[driver_unique_1950['dob'].isna()]\n",
    "aujourdhui_1950 = datetime(1950, 1, 1)  # Date du 1er janvier 1950\n",
    "driver_unique_1950.loc[:, 'age'] = driver_unique_1950['dob'].apply(\n",
    "    lambda x: aujourdhui_1950.year - x.year - ((aujourdhui.month, aujourdhui.day) < (x.month, x.day))\n",
    ")\n",
    "age_moyen = driver_unique_1950['age'].mean()\n",
    "print(f\"L'âge moyen des pilotes en 1950 est de {age_moyen:.2f} ans\")"
   ]
  }
 ],
 "metadata": {
  "kernelspec": {
   "display_name": "Python 3",
   "language": "python",
   "name": "python3"
  },
  "language_info": {
   "codemirror_mode": {
    "name": "ipython",
    "version": 3
   },
   "file_extension": ".py",
   "mimetype": "text/x-python",
   "name": "python",
   "nbconvert_exporter": "python",
   "pygments_lexer": "ipython3",
   "version": "3.11.9"
  }
 },
 "nbformat": 4,
 "nbformat_minor": 5
}
