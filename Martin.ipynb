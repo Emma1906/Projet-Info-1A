{
 "cells": [
  {
   "cell_type": "code",
   "execution_count": 3,
   "id": "eefda297",
   "metadata": {},
   "outputs": [],
   "source": [
    "import pandas as pd\n",
    "import os\n",
    "import csv\n",
    "import matplotlib.pyplot as plt\n",
    "from sklearn.model_selection import train_test_split\n",
    "from sklearn.preprocessing import OneHotEncoder\n",
    "from sklearn.linear_model import LogisticRegression\n",
    "from sklearn.metrics import classification_report, roc_auc_score\n",
    "from sklearn.impute import SimpleImputer"
   ]
  },
  {
   "cell_type": "code",
   "execution_count": 4,
   "id": "b7f450e0",
   "metadata": {},
   "outputs": [],
   "source": [
    "drivers = pd.read_csv(os.path.join(\"donnees_formule_un\", \"drivers.csv\")\\\n",
    "    , on_bad_lines='skip')\n",
    "drivers.columns = drivers.columns.str.strip()\n",
    "drivers[\"forename\"] = drivers[\"forename\"].str.replace('\"', '').str.strip()\n",
    "drivers[\"surname\"] = drivers[\"surname\"].str.replace('\"', '').str.strip()\n",
    "drivers[\"nom_complet\"] = drivers[\"forename\"] + \" \" + drivers[\"surname\"]\n",
    "\n",
    "constructors = pd.read_csv(os.path.join(\"donnees_formule_un\", \"constructors.csv\"))\n",
    "constructors.columns = constructors.columns.str.strip()\n",
    "\n",
    "results = pd.read_csv(os.path.join(\"donnees_formule_un\", \"results.csv\"))\n",
    "results.columns = results.columns.str.strip()\n",
    "\n",
    "races = pd.read_csv(os.path.join(\"donnees_formule_un\", \"races.csv\"))\n",
    "races.columns = races.columns.str.strip()\n",
    "\n"
   ]
  },
  {
   "cell_type": "code",
   "execution_count": null,
   "id": "a9543ec8",
   "metadata": {},
   "outputs": [
    {
     "name": "stdout",
     "output_type": "stream",
     "text": [
      "Le circuit le plus souvent utilisé est : \"Autodromo Nazionale di Monza\" (74 fois)\n"
     ]
    }
   ],
   "source": []
  }
 ],
 "metadata": {
  "kernelspec": {
   "display_name": "Python 3",
   "language": "python",
   "name": "python3"
  },
  "language_info": {
   "codemirror_mode": {
    "name": "ipython",
    "version": 3
   },
   "file_extension": ".py",
   "mimetype": "text/x-python",
   "name": "python",
   "nbconvert_exporter": "python",
   "pygments_lexer": "ipython3",
   "version": "3.11.9"
  }
 },
 "nbformat": 4,
 "nbformat_minor": 5
}
