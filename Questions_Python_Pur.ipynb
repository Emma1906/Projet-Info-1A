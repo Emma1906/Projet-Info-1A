{
 "cells": [
  {
   "cell_type": "markdown",
   "id": "bc082fac",
   "metadata": {},
   "source": [
    "Questions en Python pur"
   ]
  },
  {
   "cell_type": "markdown",
   "id": "571f0e2a",
   "metadata": {},
   "source": [
    "Librairies :"
   ]
  },
  {
   "cell_type": "code",
   "execution_count": 2,
   "id": "bb9627ba",
   "metadata": {},
   "outputs": [],
   "source": [
    "import os\n",
    "import csv\n",
    "from datetime import datetime"
   ]
  },
  {
   "cell_type": "markdown",
   "id": "11acd61c",
   "metadata": {},
   "source": [
    "Question 1 : Quels sont les pilotes qui ont gagné au moins 30 courses ? "
   ]
  },
  {
   "cell_type": "code",
   "execution_count": 6,
   "id": "b8dde3c7",
   "metadata": {},
   "outputs": [
    {
     "name": "stdout",
     "output_type": "stream",
     "text": [
      "Les pilotes ayant au moins 30 victoires sont :\n",
      "- Lewis Hamilton (104 victoires)\n",
      "- Michael Schumacher (91 victoires)\n",
      "- Max Verstappen (61 victoires)\n",
      "- Sebastian Vettel (53 victoires)\n",
      "- Alain Prost (51 victoires)\n",
      "- Ayrton Senna (41 victoires)\n",
      "- Fernando Alonso (32 victoires)\n",
      "- Nigel Mansell (31 victoires)\n",
      "None\n"
     ]
    }
   ],
   "source": [
    "def question1_python_pur():\n",
    "    victoires = {}\n",
    "    # Lecture du fichier results.csv\n",
    "    with open(os.path.join(\"donnees_formule_un\", \"results.csv\"), 'r', encoding='utf-8') as results_file:\n",
    "        reader = csv.reader(results_file)\n",
    "        header = [col.strip() for col in next(reader)]\n",
    "        idx_driver = header.index(\"driverId\")\n",
    "        idx_position = header.index(\"positionOrder\")\n",
    "\n",
    "        for row in reader:\n",
    "            try:\n",
    "                position = int(row[idx_position].strip())\n",
    "                if position == 1:\n",
    "                    driver_id = row[idx_driver].strip()\n",
    "                    if driver_id in victoires:\n",
    "                        victoires[driver_id] += 1\n",
    "                    else:\n",
    "                        victoires[driver_id] = 1\n",
    "            except (IndexError, ValueError):\n",
    "                continue\n",
    "\n",
    "    # Filtrer les pilotes avec au moins 30 victoires\n",
    "    pilotes_30_victoires = {\n",
    "        driver_id: nb for driver_id, nb in victoires.items() if nb >= 30\n",
    "    }\n",
    "\n",
    "    # Lecture du fichier drivers.csv\n",
    "    noms_pilotes = {}\n",
    "\n",
    "    with open(os.path.join(\"donnees_formule_un\", \"drivers.csv\"), 'r', encoding='utf-8') as drivers_file:\n",
    "        reader = csv.reader(drivers_file)\n",
    "        header = [col.strip() for col in next(reader)]\n",
    "        idx_id = header.index(\"driverId\")\n",
    "        idx_forename = header.index(\"forename\")\n",
    "        idx_surname = header.index(\"surname\")\n",
    "\n",
    "        for row in reader:\n",
    "            try:\n",
    "                driver_id = row[idx_id].strip()\n",
    "                prenom = row[idx_forename].strip().strip('\"')\n",
    "                nom_famille = row[idx_surname].strip().strip('\"')\n",
    "                nom = f\"{prenom} {nom_famille}\"\n",
    "                noms_pilotes[driver_id] = nom\n",
    "            except IndexError:\n",
    "                continue\n",
    "\n",
    "    # Créer liste triée\n",
    "    resultats = []\n",
    "    for driver_id, nb in pilotes_30_victoires.items():\n",
    "        nom = noms_pilotes.get(driver_id, f\"Pilote inconnu (ID {driver_id})\")\n",
    "        resultats.append((nom, nb))\n",
    "\n",
    "    # Trier par nombre de victoires décroissant\n",
    "    resultats.sort(key=lambda x: x[1], reverse=True)\n",
    "\n",
    "    #  Affichage formaté\n",
    "    print(\"Les pilotes ayant au moins 30 victoires sont :\")\n",
    "    for nom, nb in resultats:\n",
    "        print(f\"- {nom} ({nb} victoires)\")\n",
    "\n",
    "print(question1_python_pur())"
   ]
  },
  {
   "cell_type": "markdown",
   "id": "3bb98d67",
   "metadata": {},
   "source": [
    "Question 4 : Quels sont les meilleurs temps d'un tour de circuit (best lap time) pour chaque circuit, en 2023 ?"
   ]
  },
  {
   "cell_type": "code",
   "execution_count": 21,
   "id": "5775af06",
   "metadata": {},
   "outputs": [
    {
     "name": "stdout",
     "output_type": "stream",
     "text": [
      "Meilleurs temps par course en 2023 :\n",
      "\n",
      "\"Bahrain Grand Prix\" : 93996 ms\n",
      "\"Saudi Arabian Grand Prix\" : 91906 ms\n",
      "\"Australian Grand Prix\" : 80235 ms\n",
      "\"Azerbaijan Grand Prix\" : 103370 ms\n",
      "\"Miami Grand Prix\" : 89708 ms\n",
      "\"Monaco Grand Prix\" : 75650 ms\n",
      "\"Spanish Grand Prix\" : 76330 ms\n",
      "\"Canadian Grand Prix\" : 74481 ms\n",
      "\"Austrian Grand Prix\" : 67012 ms\n",
      "\"British Grand Prix\" : 90275 ms\n",
      "\"Hungarian Grand Prix\" : 80504 ms\n",
      "\"Belgian Grand Prix\" : 107305 ms\n",
      "\"Dutch Grand Prix\" : 73837 ms\n",
      "\"Italian Grand Prix\" : 85072 ms\n",
      "\"Singapore Grand Prix\" : 95867 ms\n",
      "\"Japanese Grand Prix\" : 94183 ms\n",
      "\"Qatar Grand Prix\" : 84319 ms\n",
      "\"United States Grand Prix\" : 98139 ms\n",
      "\"Mexico City Grand Prix\" : 81334 ms\n",
      "\"São Paulo Grand Prix\" : 72486 ms\n",
      "\"Las Vegas Grand Prix\" : 95490 ms\n",
      "\"Abu Dhabi Grand Prix\" : 86993 ms\n",
      "None\n"
     ]
    }
   ],
   "source": [
    "def question4_python_pur():\n",
    "    # Lecture et stockage des données\n",
    "    races_dict = {}\n",
    "    race_ids_2023 = set()\n",
    "\n",
    "    with open(os.path.join(\"donnees_formule_un\", \"races.csv\"), 'r', encoding='utf-8') as races_file:\n",
    "        reader = csv.reader(races_file)\n",
    "        header_races = next(reader)\n",
    "        for row in reader:\n",
    "            try:\n",
    "                raceId = row[0].strip()\n",
    "                year = int(row[1].strip())\n",
    "                if year == 2023:\n",
    "                    races_dict[raceId] = row\n",
    "                    race_ids_2023.add(raceId)\n",
    "            except (IndexError, ValueError):\n",
    "                continue\n",
    "\n",
    "    # Fusionner les temps et les courses pour l'année 2023\n",
    "    with open(os.path.join(\"donnees_formule_un\", \"lap_times.csv\"), 'r', encoding='utf-8') as laps_file:\n",
    "        reader = csv.reader(laps_file)\n",
    "        header_laps = next(reader)\n",
    "\n",
    "        with open(\"fusion_2023.csv\", 'w', newline='', encoding='utf-8') as output_file:\n",
    "            writer = csv.writer(output_file)\n",
    "            writer.writerow(header_laps + header_races)\n",
    "            for row in reader:\n",
    "                try:\n",
    "                    raceId = row[0].strip()\n",
    "                    if raceId in race_ids_2023:\n",
    "                        ligne_fusionnee = row + races_dict[raceId]\n",
    "                        writer.writerow(ligne_fusionnee)\n",
    "                except IndexError:\n",
    "                    continue\n",
    "\n",
    "    # Lire et afficher les meilleurs temps par courses\n",
    "    meilleurs_temps = {}\n",
    "    with open(\"fusion_2023.csv\", 'r', encoding='utf-8') as fusion_file:\n",
    "        reader = csv.reader(fusion_file)\n",
    "        header = next(reader)\n",
    "        for i, row in enumerate(reader):\n",
    "            try:\n",
    "                nom_course = row[10].strip()\n",
    "                temps_ms = int(row[5].strip())\n",
    "                if nom_course not in meilleurs_temps or temps_ms < meilleurs_temps[\n",
    "                    nom_course]:meilleurs_temps[nom_course] = temps_ms\n",
    "            except (IndexError, ValueError):\n",
    "                continue\n",
    "\n",
    "\n",
    "    print(\"Meilleurs temps par course en 2023 :\\n\")\n",
    "    for nom, temps in meilleurs_temps.items():\n",
    "        print(f\"{nom} : {temps} ms\")\n",
    "\n",
    "print(question4_python_pur())"
   ]
  },
  {
   "cell_type": "markdown",
   "id": "5008fdf7",
   "metadata": {},
   "source": [
    "Question 9 : Quels circuits ont été le plus de fois concouru, depuis 1950 ?"
   ]
  },
  {
   "cell_type": "code",
   "execution_count": 22,
   "id": "893e92e4",
   "metadata": {},
   "outputs": [
    {
     "name": "stdout",
     "output_type": "stream",
     "text": [
      "Les circuits ayant accueilli le plus grand nombre de Grands Prix :\n",
      "\n",
      "1. British Grand Prix – 75 courses\n",
      "2. Italian Grand Prix – 75 courses\n",
      "3. Monaco Grand Prix – 70 courses\n",
      "4. Belgian Grand Prix – 69 courses\n",
      "5. German Grand Prix – 64 courses\n",
      "\n"
     ]
    }
   ],
   "source": [
    "def question9_python_pur():\n",
    "    # Chemin vers le fichier races.csv\n",
    "    chemin_dossier = \"donnees_formule_un\"\n",
    "    fichier_races = os.path.join(chemin_dossier, \"races.csv\")\n",
    "\n",
    "    course_counts = {}\n",
    "\n",
    "    with open(fichier_races, mode=\"r\", encoding=\"utf-8\") as f:\n",
    "        reader = csv.reader(f)\n",
    "        header = [col.strip() for col in next(reader)]\n",
    "        name_index = header.index(\"name\")\n",
    "\n",
    "        for row in reader:\n",
    "            course_name = row[name_index].strip().replace('\"', '')\n",
    "            if course_name in course_counts:\n",
    "                course_counts[course_name] += 1\n",
    "            else:\n",
    "                course_counts[course_name] = 1\n",
    "\n",
    "    # Trier les noms de course par fréquence décroissante\n",
    "    top5 = sorted(course_counts.items(), key=lambda x: x[1], reverse=True)[:5]\n",
    "\n",
    "    # Formatage du résultat\n",
    "    result = \"Les circuits ayant accueilli le plus grand nombre de Grands Prix :\\n\\n\"\n",
    "    for i, (nom, nb) in enumerate(top5, start=1):\n",
    "        result += f\"{i}. {nom} – {nb} courses\\n\"\n",
    "\n",
    "    return result\n",
    "\n",
    "print(question9_python_pur())"
   ]
  }
 ],
 "metadata": {
  "kernelspec": {
   "display_name": "Python 3",
   "language": "python",
   "name": "python3"
  },
  "language_info": {
   "codemirror_mode": {
    "name": "ipython",
    "version": 3
   },
   "file_extension": ".py",
   "mimetype": "text/x-python",
   "name": "python",
   "nbconvert_exporter": "python",
   "pygments_lexer": "ipython3",
   "version": "3.11.9"
  }
 },
 "nbformat": 4,
 "nbformat_minor": 5
}
